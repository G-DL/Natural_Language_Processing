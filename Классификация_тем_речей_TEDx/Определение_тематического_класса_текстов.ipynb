{
 "cells": [
  {
   "cell_type": "markdown",
   "metadata": {},
   "source": [
    "# Определение тематического класса текстов речей TEDx\n",
    "\n",
    "Этот ноутбук решает задачу многоклассовной классификации субтитров на русском языке к записям TEDx.\n",
    "\n",
    "Оригиналный текст задачи доступен на ссылке: https://www.kaggle.com/c/2nd-hw-dl-in-nlp\n",
    "\n",
    "Код осуществляет решение к задаче, употребляя два алгоритма машинного обучения: TfidfVectorizer и SGDClassifier. Данные, входящие в отобранный пайплайн машинного обучения, предварительно обработали с помощью токенизатора и stemmer от библиотеки *nltk*, которые извлекают корень всех слов, присуствующих в текстах.\n",
    "\n",
    "После процесса предварительной обработки, строки, содержащие все извлеченные корни, вводят в качестве инпута в пайплайн для их последующих векторизации и классификации. Определение наиболее эффективных параметров векторизатора и классификатора реализуется образом конструктора GridSearchCV, который сравнивает множество разных конкурирующих моделей, дифференцированных по основаниям их гиперпараметров, и сохраняет самую эффективную модель. Та модель дальше употребляется для прогнозирования классов тестовых текстов, не наблюдавшихся алгоритмом в процессе обучения. В заключение сройтся файл с прогнозированными решениями для его отправления в Kaggle.\n",
    "\n",
    "Итог расчета можно оценить образом алгоритма оценки Kaggle. Полученные оценки, private:0.68292 и public:0.64878, входит в первое и второе места в таблицах лидеров."
   ]
  },
  {
   "cell_type": "markdown",
   "metadata": {},
   "source": [
    "# Подключение библиотек\n",
    "\n",
    "### Основые библиотеки\n",
    "\n",
    "Теперь настроим все необходимые библиотеки, употреблявшие в ходе последуюшего кода.\n",
    "\n",
    "Начинаемся, установливая numpy и генератор случайных чисел, для воспроизводимости и сопоставимость результатов расчета"
   ]
  },
  {
   "cell_type": "code",
   "execution_count": 1,
   "metadata": {
    "collapsed": true
   },
   "outputs": [],
   "source": [
    "import numpy as np\n",
    "np.random.seed(42)"
   ]
  },
  {
   "cell_type": "markdown",
   "metadata": {},
   "source": [
    "Основные библиотеки для работы с базами данных и обработки естетсвенного языка"
   ]
  },
  {
   "cell_type": "code",
   "execution_count": 2,
   "metadata": {
    "collapsed": true
   },
   "outputs": [],
   "source": [
    "import pandas as pd # Основая библиотека для загрузки баз данных\n",
    "import nltk # Специализированная библиотека для обработки естественного языка"
   ]
  },
  {
   "cell_type": "code",
   "execution_count": 3,
   "metadata": {
    "collapsed": true
   },
   "outputs": [],
   "source": [
    "# Дополнительные употреблявшие библиотеки \n",
    "from pprint import pprint\n",
    "import time"
   ]
  },
  {
   "cell_type": "markdown",
   "metadata": {},
   "source": [
    "### Конструкторы моделей машинного обучения:\n",
    "\n",
    "##### 1) Векторизатор. \n",
    "\n",
    "Его употребляние совпадает с употреблянием CountVectorizer и TfidfTransformer,\n",
    "в соответствии с документацией sklearn: \n",
    "http://scikit-learn.org/stable/modules/generated/sklearn.feature_extraction.text.TfidfVectorizer.html"
   ]
  },
  {
   "cell_type": "code",
   "execution_count": 4,
   "metadata": {
    "collapsed": true
   },
   "outputs": [],
   "source": [
    "from sklearn.feature_extraction.text import TfidfVectorizer"
   ]
  },
  {
   "cell_type": "markdown",
   "metadata": {},
   "source": [
    "##### 2) Классификатор.\n",
    "\n",
    "Конструктор SGDClassifier создает модель классификатора, который использует метод стохастического градиентного спуска для схождения к глобальному мининмуму.\n",
    "\n",
    "Зависимо от целевой функции, передана как параметр модели во время ее создания, коструктор совпадает с моделью SVM или Логистической регрессии, если передаем ему, соответственно, 'hinge' или 'log' в качестве целевой функции.\n",
    "Конструктор применяет и дополнительные целевые функции, хотя мы их не рассмотрим.\n",
    "\n",
    "Полная документация здесь: http://scikit-learn.org/stable/modules/generated/sklearn.linear_model.SGDClassifier.html"
   ]
  },
  {
   "cell_type": "code",
   "execution_count": 5,
   "metadata": {
    "collapsed": true
   },
   "outputs": [],
   "source": [
    "from sklearn.linear_model import SGDClassifier"
   ]
  },
  {
   "cell_type": "markdown",
   "metadata": {},
   "source": [
    "##### 3) Пайплайн\n",
    "\n",
    "Конструктор Pipeline, это комфортный метод соединения конструкторов типа \"трансформатора\" с оценщиком. Вызов метода .fit() созданного конструктора вызывает последовательно методи .fit_transform() трансформаторов, и .fit() оценщика.\n",
    "\n",
    "Этот конструктор хорошо адаптируется для пойска сетки гиперпараметров с GridSearchCV.\n",
    "\n",
    "Ссылки: http://scikit-learn.org/stable/modules/generated/sklearn.pipeline.Pipeline.html"
   ]
  },
  {
   "cell_type": "code",
   "execution_count": 6,
   "metadata": {
    "collapsed": true
   },
   "outputs": [],
   "source": [
    "from sklearn.pipeline import Pipeline "
   ]
  },
  {
   "cell_type": "markdown",
   "metadata": {},
   "source": [
    "##### 4) GridSearchCV\n",
    "\n",
    "GridSearchCV осуществляет пойск сетки оптимальных гиперпараметров среди тех, что конструктор получает в форме словаря доступных возможностей.\n",
    "\n",
    "Документация конструктора: http://scikit-learn.org/stable/modules/generated/sklearn.grid_search.GridSearchCV.html"
   ]
  },
  {
   "cell_type": "code",
   "execution_count": 7,
   "metadata": {
    "collapsed": true
   },
   "outputs": [],
   "source": [
    "from sklearn.model_selection import GridSearchCV"
   ]
  },
  {
   "cell_type": "markdown",
   "metadata": {},
   "source": [
    "# Загрузка данных задачи\n",
    "\n",
    "### Премеры для обучения моделей\n",
    "\n",
    "Текст задачи представляет два файла в формате json, содержащие тексты и тематические классы множества речей TEDx, плюс тексты несколько неклассифицированных речей.\n",
    "\n",
    "Все файлы найдены здесь: https://www.kaggle.com/c/2nd-hw-dl-in-nlp/data\n",
    "\n",
    "Распределяем данные на два множества: обучающие данные, и данные для тестирования. Загружаем их в два кадра данных, train и test, образом функций библиотеки pandas."
   ]
  },
  {
   "cell_type": "code",
   "execution_count": 8,
   "metadata": {
    "scrolled": true
   },
   "outputs": [
    {
     "data": {
      "text/html": [
       "<div>\n",
       "<style>\n",
       "    .dataframe thead tr:only-child th {\n",
       "        text-align: right;\n",
       "    }\n",
       "\n",
       "    .dataframe thead th {\n",
       "        text-align: left;\n",
       "    }\n",
       "\n",
       "    .dataframe tbody tr th {\n",
       "        vertical-align: top;\n",
       "    }\n",
       "</style>\n",
       "<table border=\"1\" class=\"dataframe\">\n",
       "  <thead>\n",
       "    <tr style=\"text-align: right;\">\n",
       "      <th></th>\n",
       "      <th>@id</th>\n",
       "      <th>class</th>\n",
       "      <th>content</th>\n",
       "      <th>head</th>\n",
       "    </tr>\n",
       "  </thead>\n",
       "  <tbody>\n",
       "    <tr>\n",
       "      <th>0</th>\n",
       "      <td>1848</td>\n",
       "      <td>2</td>\n",
       "      <td>Я был неописуемо удивлён, узнав о существовани...</td>\n",
       "      <td>{'videourl': 'http://download.ted.com/talks/Ne...</td>\n",
       "    </tr>\n",
       "    <tr>\n",
       "      <th>1</th>\n",
       "      <td>881</td>\n",
       "      <td>2</td>\n",
       "      <td>Я работаю с бактериями. Сейчас я покажу вам сд...</td>\n",
       "      <td>{'videourl': 'http://download.ted.com/talks/Da...</td>\n",
       "    </tr>\n",
       "    <tr>\n",
       "      <th>2</th>\n",
       "      <td>1757</td>\n",
       "      <td>1</td>\n",
       "      <td>Привет, я здесь чтобы поговорить с вами о важн...</td>\n",
       "      <td>{'videourl': 'http://download.ted.com/talks/La...</td>\n",
       "    </tr>\n",
       "    <tr>\n",
       "      <th>3</th>\n",
       "      <td>1199</td>\n",
       "      <td>1</td>\n",
       "      <td>Я глава отдела развития общественной организац...</td>\n",
       "      <td>{'videourl': 'http://download.ted.com/talks/Ma...</td>\n",
       "    </tr>\n",
       "    <tr>\n",
       "      <th>4</th>\n",
       "      <td>1855</td>\n",
       "      <td>6</td>\n",
       "      <td>Я думаю, мой взгляд на простоту можно отлично ...</td>\n",
       "      <td>{'videourl': 'http://download.ted.com/talks/Al...</td>\n",
       "    </tr>\n",
       "  </tbody>\n",
       "</table>\n",
       "</div>"
      ],
      "text/plain": [
       "    @id  class                                            content  \\\n",
       "0  1848      2  Я был неописуемо удивлён, узнав о существовани...   \n",
       "1   881      2  Я работаю с бактериями. Сейчас я покажу вам сд...   \n",
       "2  1757      1  Привет, я здесь чтобы поговорить с вами о важн...   \n",
       "3  1199      1  Я глава отдела развития общественной организац...   \n",
       "4  1855      6  Я думаю, мой взгляд на простоту можно отлично ...   \n",
       "\n",
       "                                                head  \n",
       "0  {'videourl': 'http://download.ted.com/talks/Ne...  \n",
       "1  {'videourl': 'http://download.ted.com/talks/Da...  \n",
       "2  {'videourl': 'http://download.ted.com/talks/La...  \n",
       "3  {'videourl': 'http://download.ted.com/talks/Ma...  \n",
       "4  {'videourl': 'http://download.ted.com/talks/Al...  "
      ]
     },
     "execution_count": 8,
     "metadata": {},
     "output_type": "execute_result"
    }
   ],
   "source": [
    "train = pd.read_json('train.json')\n",
    "train.head()"
   ]
  },
  {
   "cell_type": "markdown",
   "metadata": {},
   "source": [
    "Назначаем столбец '@id' индексом фрейма данных, и изменяем его название на более простую строку 'id'.\n",
    "\n",
    "Также изменяем названия остальных столбцов на ['class','text_original','header'], для нашего удобства."
   ]
  },
  {
   "cell_type": "code",
   "execution_count": 9,
   "metadata": {},
   "outputs": [
    {
     "data": {
      "text/html": [
       "<div>\n",
       "<style>\n",
       "    .dataframe thead tr:only-child th {\n",
       "        text-align: right;\n",
       "    }\n",
       "\n",
       "    .dataframe thead th {\n",
       "        text-align: left;\n",
       "    }\n",
       "\n",
       "    .dataframe tbody tr th {\n",
       "        vertical-align: top;\n",
       "    }\n",
       "</style>\n",
       "<table border=\"1\" class=\"dataframe\">\n",
       "  <thead>\n",
       "    <tr style=\"text-align: right;\">\n",
       "      <th></th>\n",
       "      <th>class</th>\n",
       "      <th>text_original</th>\n",
       "      <th>header</th>\n",
       "    </tr>\n",
       "    <tr>\n",
       "      <th>id</th>\n",
       "      <th></th>\n",
       "      <th></th>\n",
       "      <th></th>\n",
       "    </tr>\n",
       "  </thead>\n",
       "  <tbody>\n",
       "    <tr>\n",
       "      <th>1848</th>\n",
       "      <td>2</td>\n",
       "      <td>Я был неописуемо удивлён, узнав о существовани...</td>\n",
       "      <td>{'videourl': 'http://download.ted.com/talks/Ne...</td>\n",
       "    </tr>\n",
       "    <tr>\n",
       "      <th>881</th>\n",
       "      <td>2</td>\n",
       "      <td>Я работаю с бактериями. Сейчас я покажу вам сд...</td>\n",
       "      <td>{'videourl': 'http://download.ted.com/talks/Da...</td>\n",
       "    </tr>\n",
       "    <tr>\n",
       "      <th>1757</th>\n",
       "      <td>1</td>\n",
       "      <td>Привет, я здесь чтобы поговорить с вами о важн...</td>\n",
       "      <td>{'videourl': 'http://download.ted.com/talks/La...</td>\n",
       "    </tr>\n",
       "    <tr>\n",
       "      <th>1199</th>\n",
       "      <td>1</td>\n",
       "      <td>Я глава отдела развития общественной организац...</td>\n",
       "      <td>{'videourl': 'http://download.ted.com/talks/Ma...</td>\n",
       "    </tr>\n",
       "    <tr>\n",
       "      <th>1855</th>\n",
       "      <td>6</td>\n",
       "      <td>Я думаю, мой взгляд на простоту можно отлично ...</td>\n",
       "      <td>{'videourl': 'http://download.ted.com/talks/Al...</td>\n",
       "    </tr>\n",
       "  </tbody>\n",
       "</table>\n",
       "</div>"
      ],
      "text/plain": [
       "      class                                      text_original  \\\n",
       "id                                                               \n",
       "1848      2  Я был неописуемо удивлён, узнав о существовани...   \n",
       "881       2  Я работаю с бактериями. Сейчас я покажу вам сд...   \n",
       "1757      1  Привет, я здесь чтобы поговорить с вами о важн...   \n",
       "1199      1  Я глава отдела развития общественной организац...   \n",
       "1855      6  Я думаю, мой взгляд на простоту можно отлично ...   \n",
       "\n",
       "                                                 header  \n",
       "id                                                       \n",
       "1848  {'videourl': 'http://download.ted.com/talks/Ne...  \n",
       "881   {'videourl': 'http://download.ted.com/talks/Da...  \n",
       "1757  {'videourl': 'http://download.ted.com/talks/La...  \n",
       "1199  {'videourl': 'http://download.ted.com/talks/Ma...  \n",
       "1855  {'videourl': 'http://download.ted.com/talks/Al...  "
      ]
     },
     "execution_count": 9,
     "metadata": {},
     "output_type": "execute_result"
    }
   ],
   "source": [
    "train.index = train['@id']\n",
    "train.index.name = 'id'\n",
    "\n",
    "train = train[['class','content','head']]\n",
    "train.columns = ['class','text_original','header']\n",
    "train.head()"
   ]
  },
  {
   "cell_type": "markdown",
   "metadata": {},
   "source": [
    "Проверяем сейчас что все ячейки имеют ненулевое значение. За того, что все их являются ненулевыми, нам не нужно удалить строк фрейма данных."
   ]
  },
  {
   "cell_type": "code",
   "execution_count": 10,
   "metadata": {},
   "outputs": [
    {
     "name": "stdout",
     "output_type": "stream",
     "text": [
      "<class 'pandas.core.frame.DataFrame'>\n",
      "Int64Index: 1640 entries, 1848 to 1171\n",
      "Data columns (total 3 columns):\n",
      "class            1640 non-null int64\n",
      "text_original    1640 non-null object\n",
      "header           1640 non-null object\n",
      "dtypes: int64(1), object(2)\n",
      "memory usage: 51.2+ KB\n"
     ]
    }
   ],
   "source": [
    "train.info()"
   ]
  },
  {
   "cell_type": "markdown",
   "metadata": {},
   "source": [
    "### Премеры для тестирования\n",
    "\n",
    "Загружаем файл тестированных премеров аналогично к предыдущему написанному коду, и изменяем названия его столбцов и индекса."
   ]
  },
  {
   "cell_type": "code",
   "execution_count": 11,
   "metadata": {},
   "outputs": [
    {
     "name": "stdout",
     "output_type": "stream",
     "text": [
      "(410, 2)\n"
     ]
    },
    {
     "data": {
      "text/html": [
       "<div>\n",
       "<style>\n",
       "    .dataframe thead tr:only-child th {\n",
       "        text-align: right;\n",
       "    }\n",
       "\n",
       "    .dataframe thead th {\n",
       "        text-align: left;\n",
       "    }\n",
       "\n",
       "    .dataframe tbody tr th {\n",
       "        vertical-align: top;\n",
       "    }\n",
       "</style>\n",
       "<table border=\"1\" class=\"dataframe\">\n",
       "  <thead>\n",
       "    <tr style=\"text-align: right;\">\n",
       "      <th></th>\n",
       "      <th>text_original</th>\n",
       "      <th>header</th>\n",
       "    </tr>\n",
       "    <tr>\n",
       "      <th>id</th>\n",
       "      <th></th>\n",
       "      <th></th>\n",
       "    </tr>\n",
       "  </thead>\n",
       "  <tbody>\n",
       "    <tr>\n",
       "      <th>505</th>\n",
       "      <td>Когда я делаю свою работу, люди меня ненавидят...</td>\n",
       "      <td>{'videourl': 'http://download.ted.com/talks/Sa...</td>\n",
       "    </tr>\n",
       "    <tr>\n",
       "      <th>734</th>\n",
       "      <td>Мой друг-политолог несколько месяцев назад оче...</td>\n",
       "      <td>{'videourl': 'http://download.ted.com/talks/Ad...</td>\n",
       "    </tr>\n",
       "    <tr>\n",
       "      <th>1526</th>\n",
       "      <td>Я - Дэвид Хенсон, и я делаю роботов с характер...</td>\n",
       "      <td>{'videourl': 'http://download.ted.com/talks/Da...</td>\n",
       "    </tr>\n",
       "    <tr>\n",
       "      <th>1160</th>\n",
       "      <td>Вселенная очень велика. Мы живем в галактике, ...</td>\n",
       "      <td>{'videourl': 'http://download.ted.com/talks/Se...</td>\n",
       "    </tr>\n",
       "    <tr>\n",
       "      <th>1027</th>\n",
       "      <td>Если бы ваша жизнь была книгой, а вы — её авто...</td>\n",
       "      <td>{'videourl': 'http://download.ted.com/talks/Am...</td>\n",
       "    </tr>\n",
       "  </tbody>\n",
       "</table>\n",
       "</div>"
      ],
      "text/plain": [
       "                                          text_original  \\\n",
       "id                                                        \n",
       "505   Когда я делаю свою работу, люди меня ненавидят...   \n",
       "734   Мой друг-политолог несколько месяцев назад оче...   \n",
       "1526  Я - Дэвид Хенсон, и я делаю роботов с характер...   \n",
       "1160  Вселенная очень велика. Мы живем в галактике, ...   \n",
       "1027  Если бы ваша жизнь была книгой, а вы — её авто...   \n",
       "\n",
       "                                                 header  \n",
       "id                                                       \n",
       "505   {'videourl': 'http://download.ted.com/talks/Sa...  \n",
       "734   {'videourl': 'http://download.ted.com/talks/Ad...  \n",
       "1526  {'videourl': 'http://download.ted.com/talks/Da...  \n",
       "1160  {'videourl': 'http://download.ted.com/talks/Se...  \n",
       "1027  {'videourl': 'http://download.ted.com/talks/Am...  "
      ]
     },
     "execution_count": 11,
     "metadata": {},
     "output_type": "execute_result"
    }
   ],
   "source": [
    "test = pd.read_json('test.json')\n",
    "\n",
    "test.index = test['@id']\n",
    "test.index.name = 'id'\n",
    "\n",
    "test = test[['content','head']]\n",
    "test.columns = ['text_original','header']\n",
    "print(test.shape)\n",
    "test.head()"
   ]
  },
  {
   "cell_type": "markdown",
   "metadata": {},
   "source": [
    "# Предварительная обработка текстов\n",
    "\n",
    "Чтобы увеличить прогнозную точность модели, заставляем все тексты обучающих премеров в процесс предварительной обработки, в течение которой извлекаем все корни слов, представленных в текстах.\n",
    "\n",
    "### Токенизатор\n",
    "\n",
    "Начинаем, создавая \"токенизатор\" библиотеки NLTK, который выявляет все слов от строки образом регулярных выражений, и возвращает список всех найденных терминов.\n",
    "\n",
    "Также добавляем возвращенный список к новому столбцу фрейма train"
   ]
  },
  {
   "cell_type": "code",
   "execution_count": 12,
   "metadata": {},
   "outputs": [
    {
     "data": {
      "text/html": [
       "<div>\n",
       "<style>\n",
       "    .dataframe thead tr:only-child th {\n",
       "        text-align: right;\n",
       "    }\n",
       "\n",
       "    .dataframe thead th {\n",
       "        text-align: left;\n",
       "    }\n",
       "\n",
       "    .dataframe tbody tr th {\n",
       "        vertical-align: top;\n",
       "    }\n",
       "</style>\n",
       "<table border=\"1\" class=\"dataframe\">\n",
       "  <thead>\n",
       "    <tr style=\"text-align: right;\">\n",
       "      <th></th>\n",
       "      <th>class</th>\n",
       "      <th>text_original</th>\n",
       "      <th>header</th>\n",
       "      <th>text_tokenized</th>\n",
       "    </tr>\n",
       "    <tr>\n",
       "      <th>id</th>\n",
       "      <th></th>\n",
       "      <th></th>\n",
       "      <th></th>\n",
       "      <th></th>\n",
       "    </tr>\n",
       "  </thead>\n",
       "  <tbody>\n",
       "    <tr>\n",
       "      <th>1848</th>\n",
       "      <td>2</td>\n",
       "      <td>Я был неописуемо удивлён, узнав о существовани...</td>\n",
       "      <td>{'videourl': 'http://download.ted.com/talks/Ne...</td>\n",
       "      <td>[Я, был, неописуемо, удивлён, узнав, о, сущест...</td>\n",
       "    </tr>\n",
       "    <tr>\n",
       "      <th>881</th>\n",
       "      <td>2</td>\n",
       "      <td>Я работаю с бактериями. Сейчас я покажу вам сд...</td>\n",
       "      <td>{'videourl': 'http://download.ted.com/talks/Da...</td>\n",
       "      <td>[Я, работаю, с, бактериями, Сейчас, я, покажу,...</td>\n",
       "    </tr>\n",
       "    <tr>\n",
       "      <th>1757</th>\n",
       "      <td>1</td>\n",
       "      <td>Привет, я здесь чтобы поговорить с вами о важн...</td>\n",
       "      <td>{'videourl': 'http://download.ted.com/talks/La...</td>\n",
       "      <td>[Привет, я, здесь, чтобы, поговорить, с, вами,...</td>\n",
       "    </tr>\n",
       "    <tr>\n",
       "      <th>1199</th>\n",
       "      <td>1</td>\n",
       "      <td>Я глава отдела развития общественной организац...</td>\n",
       "      <td>{'videourl': 'http://download.ted.com/talks/Ma...</td>\n",
       "      <td>[Я, глава, отдела, развития, общественной, орг...</td>\n",
       "    </tr>\n",
       "    <tr>\n",
       "      <th>1855</th>\n",
       "      <td>6</td>\n",
       "      <td>Я думаю, мой взгляд на простоту можно отлично ...</td>\n",
       "      <td>{'videourl': 'http://download.ted.com/talks/Al...</td>\n",
       "      <td>[Я, думаю, мой, взгляд, на, простоту, можно, о...</td>\n",
       "    </tr>\n",
       "  </tbody>\n",
       "</table>\n",
       "</div>"
      ],
      "text/plain": [
       "      class                                      text_original  \\\n",
       "id                                                               \n",
       "1848      2  Я был неописуемо удивлён, узнав о существовани...   \n",
       "881       2  Я работаю с бактериями. Сейчас я покажу вам сд...   \n",
       "1757      1  Привет, я здесь чтобы поговорить с вами о важн...   \n",
       "1199      1  Я глава отдела развития общественной организац...   \n",
       "1855      6  Я думаю, мой взгляд на простоту можно отлично ...   \n",
       "\n",
       "                                                 header  \\\n",
       "id                                                        \n",
       "1848  {'videourl': 'http://download.ted.com/talks/Ne...   \n",
       "881   {'videourl': 'http://download.ted.com/talks/Da...   \n",
       "1757  {'videourl': 'http://download.ted.com/talks/La...   \n",
       "1199  {'videourl': 'http://download.ted.com/talks/Ma...   \n",
       "1855  {'videourl': 'http://download.ted.com/talks/Al...   \n",
       "\n",
       "                                         text_tokenized  \n",
       "id                                                       \n",
       "1848  [Я, был, неописуемо, удивлён, узнав, о, сущест...  \n",
       "881   [Я, работаю, с, бактериями, Сейчас, я, покажу,...  \n",
       "1757  [Привет, я, здесь, чтобы, поговорить, с, вами,...  \n",
       "1199  [Я, глава, отдела, развития, общественной, орг...  \n",
       "1855  [Я, думаю, мой, взгляд, на, простоту, можно, о...  "
      ]
     },
     "execution_count": 12,
     "metadata": {},
     "output_type": "execute_result"
    }
   ],
   "source": [
    "tokenizer = nltk.tokenize.RegexpTokenizer('\\w+')\n",
    "\n",
    "train['text_tokenized'] = train['text_original'].apply(tokenizer.tokenize)\n",
    "train.head()"
   ]
  },
  {
   "cell_type": "markdown",
   "metadata": {},
   "source": [
    "### Извлекатель корней\n",
    "\n",
    "По сокращению объема слов, имеющих одинаковое семантическое значение но определенных по отдельности, создаем и употребляем конструктор RussianStemmer от NLTK на все токенизированные слова.\n",
    "Этот конструктор извлекает корень данного слова образом его метода .stem(), и возвращает его пользователю. Из-за того, что конструктор по умолчанию не применяет списки, а только строки, нам требуется писать новую функцию, которая итерирует на слова наших списков, и возвращает новый список с извлеченными корнями.\n",
    "\n",
    "Чтобы выполнить код потребуются несколько минут, 7 или 8."
   ]
  },
  {
   "cell_type": "code",
   "execution_count": 13,
   "metadata": {},
   "outputs": [
    {
     "name": "stdout",
     "output_type": "stream",
     "text": [
      "Wall time: 7min 25s\n"
     ]
    }
   ],
   "source": [
    "%%time\n",
    "\n",
    "from nltk.stem.snowball import RussianStemmer\n",
    "stemmer = RussianStemmer()\n",
    "\n",
    "def stemming_from_lists(list_to_stem):\n",
    "    return [stemmer.stem(x) for x in list_to_stem]\n",
    "\n",
    "train['text_stemmed'] = train['text_tokenized'].apply(stemming_from_lists) # This takes several minutes"
   ]
  },
  {
   "cell_type": "markdown",
   "metadata": {},
   "source": [
    "Проверяем, что все случилось как ожиданно"
   ]
  },
  {
   "cell_type": "code",
   "execution_count": 14,
   "metadata": {},
   "outputs": [
    {
     "data": {
      "text/html": [
       "<div>\n",
       "<style>\n",
       "    .dataframe thead tr:only-child th {\n",
       "        text-align: right;\n",
       "    }\n",
       "\n",
       "    .dataframe thead th {\n",
       "        text-align: left;\n",
       "    }\n",
       "\n",
       "    .dataframe tbody tr th {\n",
       "        vertical-align: top;\n",
       "    }\n",
       "</style>\n",
       "<table border=\"1\" class=\"dataframe\">\n",
       "  <thead>\n",
       "    <tr style=\"text-align: right;\">\n",
       "      <th></th>\n",
       "      <th>class</th>\n",
       "      <th>text_original</th>\n",
       "      <th>header</th>\n",
       "      <th>text_tokenized</th>\n",
       "      <th>text_stemmed</th>\n",
       "    </tr>\n",
       "    <tr>\n",
       "      <th>id</th>\n",
       "      <th></th>\n",
       "      <th></th>\n",
       "      <th></th>\n",
       "      <th></th>\n",
       "      <th></th>\n",
       "    </tr>\n",
       "  </thead>\n",
       "  <tbody>\n",
       "    <tr>\n",
       "      <th>1848</th>\n",
       "      <td>2</td>\n",
       "      <td>Я был неописуемо удивлён, узнав о существовани...</td>\n",
       "      <td>{'videourl': 'http://download.ted.com/talks/Ne...</td>\n",
       "      <td>[Я, был, неописуемо, удивлён, узнав, о, сущест...</td>\n",
       "      <td>[я, был, неописуем, удивл, узна, о, существова...</td>\n",
       "    </tr>\n",
       "    <tr>\n",
       "      <th>881</th>\n",
       "      <td>2</td>\n",
       "      <td>Я работаю с бактериями. Сейчас я покажу вам сд...</td>\n",
       "      <td>{'videourl': 'http://download.ted.com/talks/Da...</td>\n",
       "      <td>[Я, работаю, с, бактериями, Сейчас, я, покажу,...</td>\n",
       "      <td>[я, работа, с, бактер, сейчас, я, покаж, вам, ...</td>\n",
       "    </tr>\n",
       "    <tr>\n",
       "      <th>1757</th>\n",
       "      <td>1</td>\n",
       "      <td>Привет, я здесь чтобы поговорить с вами о важн...</td>\n",
       "      <td>{'videourl': 'http://download.ted.com/talks/La...</td>\n",
       "      <td>[Привет, я, здесь, чтобы, поговорить, с, вами,...</td>\n",
       "      <td>[привет, я, зде, чтоб, поговор, с, вам, о, важ...</td>\n",
       "    </tr>\n",
       "    <tr>\n",
       "      <th>1199</th>\n",
       "      <td>1</td>\n",
       "      <td>Я глава отдела развития общественной организац...</td>\n",
       "      <td>{'videourl': 'http://download.ted.com/talks/Ma...</td>\n",
       "      <td>[Я, глава, отдела, развития, общественной, орг...</td>\n",
       "      <td>[я, глав, отдел, развит, обществен, организац,...</td>\n",
       "    </tr>\n",
       "    <tr>\n",
       "      <th>1855</th>\n",
       "      <td>6</td>\n",
       "      <td>Я думаю, мой взгляд на простоту можно отлично ...</td>\n",
       "      <td>{'videourl': 'http://download.ted.com/talks/Al...</td>\n",
       "      <td>[Я, думаю, мой, взгляд, на, простоту, можно, о...</td>\n",
       "      <td>[я, дума, мо, взгляд, на, простот, можн, отлич...</td>\n",
       "    </tr>\n",
       "  </tbody>\n",
       "</table>\n",
       "</div>"
      ],
      "text/plain": [
       "      class                                      text_original  \\\n",
       "id                                                               \n",
       "1848      2  Я был неописуемо удивлён, узнав о существовани...   \n",
       "881       2  Я работаю с бактериями. Сейчас я покажу вам сд...   \n",
       "1757      1  Привет, я здесь чтобы поговорить с вами о важн...   \n",
       "1199      1  Я глава отдела развития общественной организац...   \n",
       "1855      6  Я думаю, мой взгляд на простоту можно отлично ...   \n",
       "\n",
       "                                                 header  \\\n",
       "id                                                        \n",
       "1848  {'videourl': 'http://download.ted.com/talks/Ne...   \n",
       "881   {'videourl': 'http://download.ted.com/talks/Da...   \n",
       "1757  {'videourl': 'http://download.ted.com/talks/La...   \n",
       "1199  {'videourl': 'http://download.ted.com/talks/Ma...   \n",
       "1855  {'videourl': 'http://download.ted.com/talks/Al...   \n",
       "\n",
       "                                         text_tokenized  \\\n",
       "id                                                        \n",
       "1848  [Я, был, неописуемо, удивлён, узнав, о, сущест...   \n",
       "881   [Я, работаю, с, бактериями, Сейчас, я, покажу,...   \n",
       "1757  [Привет, я, здесь, чтобы, поговорить, с, вами,...   \n",
       "1199  [Я, глава, отдела, развития, общественной, орг...   \n",
       "1855  [Я, думаю, мой, взгляд, на, простоту, можно, о...   \n",
       "\n",
       "                                           text_stemmed  \n",
       "id                                                       \n",
       "1848  [я, был, неописуем, удивл, узна, о, существова...  \n",
       "881   [я, работа, с, бактер, сейчас, я, покаж, вам, ...  \n",
       "1757  [привет, я, зде, чтоб, поговор, с, вам, о, важ...  \n",
       "1199  [я, глав, отдел, развит, обществен, организац,...  \n",
       "1855  [я, дума, мо, взгляд, на, простот, можн, отлич...  "
      ]
     },
     "execution_count": 14,
     "metadata": {},
     "output_type": "execute_result"
    }
   ],
   "source": [
    "train.head()"
   ]
  },
  {
   "cell_type": "markdown",
   "metadata": {},
   "source": [
    "### Конкатенация корней\n",
    "\n",
    "Из-за того, что употребляемые нами конструкторы машинного обучения не применяют списки строк, но только сами строки, нам нужно \n",
    "сейчас инвертировать процесс разделения, используя конкатенацию/сложение строк с корнями слов.\n",
    "\n",
    "Осуществляем решение этой задачи функцией, описанной ниже."
   ]
  },
  {
   "cell_type": "code",
   "execution_count": 15,
   "metadata": {},
   "outputs": [
    {
     "data": {
      "text/html": [
       "<div>\n",
       "<style>\n",
       "    .dataframe thead tr:only-child th {\n",
       "        text-align: right;\n",
       "    }\n",
       "\n",
       "    .dataframe thead th {\n",
       "        text-align: left;\n",
       "    }\n",
       "\n",
       "    .dataframe tbody tr th {\n",
       "        vertical-align: top;\n",
       "    }\n",
       "</style>\n",
       "<table border=\"1\" class=\"dataframe\">\n",
       "  <thead>\n",
       "    <tr style=\"text-align: right;\">\n",
       "      <th></th>\n",
       "      <th>class</th>\n",
       "      <th>text_original</th>\n",
       "      <th>header</th>\n",
       "      <th>text_tokenized</th>\n",
       "      <th>text_stemmed</th>\n",
       "      <th>text_final</th>\n",
       "    </tr>\n",
       "    <tr>\n",
       "      <th>id</th>\n",
       "      <th></th>\n",
       "      <th></th>\n",
       "      <th></th>\n",
       "      <th></th>\n",
       "      <th></th>\n",
       "      <th></th>\n",
       "    </tr>\n",
       "  </thead>\n",
       "  <tbody>\n",
       "    <tr>\n",
       "      <th>1848</th>\n",
       "      <td>2</td>\n",
       "      <td>Я был неописуемо удивлён, узнав о существовани...</td>\n",
       "      <td>{'videourl': 'http://download.ted.com/talks/Ne...</td>\n",
       "      <td>[Я, был, неописуемо, удивлён, узнав, о, сущест...</td>\n",
       "      <td>[я, был, неописуем, удивл, узна, о, существова...</td>\n",
       "      <td>я был неописуем удивл узна о существован орган...</td>\n",
       "    </tr>\n",
       "    <tr>\n",
       "      <th>881</th>\n",
       "      <td>2</td>\n",
       "      <td>Я работаю с бактериями. Сейчас я покажу вам сд...</td>\n",
       "      <td>{'videourl': 'http://download.ted.com/talks/Da...</td>\n",
       "      <td>[Я, работаю, с, бактериями, Сейчас, я, покажу,...</td>\n",
       "      <td>[я, работа, с, бактер, сейчас, я, покаж, вам, ...</td>\n",
       "      <td>я работа с бактер сейчас я покаж вам сдела мно...</td>\n",
       "    </tr>\n",
       "    <tr>\n",
       "      <th>1757</th>\n",
       "      <td>1</td>\n",
       "      <td>Привет, я здесь чтобы поговорить с вами о важн...</td>\n",
       "      <td>{'videourl': 'http://download.ted.com/talks/La...</td>\n",
       "      <td>[Привет, я, здесь, чтобы, поговорить, с, вами,...</td>\n",
       "      <td>[привет, я, зде, чтоб, поговор, с, вам, о, важ...</td>\n",
       "      <td>привет я зде чтоб поговор с вам о важност похв...</td>\n",
       "    </tr>\n",
       "    <tr>\n",
       "      <th>1199</th>\n",
       "      <td>1</td>\n",
       "      <td>Я глава отдела развития общественной организац...</td>\n",
       "      <td>{'videourl': 'http://download.ted.com/talks/Ma...</td>\n",
       "      <td>[Я, глава, отдела, развития, общественной, орг...</td>\n",
       "      <td>[я, глав, отдел, развит, обществен, организац,...</td>\n",
       "      <td>я глав отдел развит обществен организац робин ...</td>\n",
       "    </tr>\n",
       "    <tr>\n",
       "      <th>1855</th>\n",
       "      <td>6</td>\n",
       "      <td>Я думаю, мой взгляд на простоту можно отлично ...</td>\n",
       "      <td>{'videourl': 'http://download.ted.com/talks/Al...</td>\n",
       "      <td>[Я, думаю, мой, взгляд, на, простоту, можно, о...</td>\n",
       "      <td>[я, дума, мо, взгляд, на, простот, можн, отлич...</td>\n",
       "      <td>я дума мо взгляд на простот можн отличн проилл...</td>\n",
       "    </tr>\n",
       "  </tbody>\n",
       "</table>\n",
       "</div>"
      ],
      "text/plain": [
       "      class                                      text_original  \\\n",
       "id                                                               \n",
       "1848      2  Я был неописуемо удивлён, узнав о существовани...   \n",
       "881       2  Я работаю с бактериями. Сейчас я покажу вам сд...   \n",
       "1757      1  Привет, я здесь чтобы поговорить с вами о важн...   \n",
       "1199      1  Я глава отдела развития общественной организац...   \n",
       "1855      6  Я думаю, мой взгляд на простоту можно отлично ...   \n",
       "\n",
       "                                                 header  \\\n",
       "id                                                        \n",
       "1848  {'videourl': 'http://download.ted.com/talks/Ne...   \n",
       "881   {'videourl': 'http://download.ted.com/talks/Da...   \n",
       "1757  {'videourl': 'http://download.ted.com/talks/La...   \n",
       "1199  {'videourl': 'http://download.ted.com/talks/Ma...   \n",
       "1855  {'videourl': 'http://download.ted.com/talks/Al...   \n",
       "\n",
       "                                         text_tokenized  \\\n",
       "id                                                        \n",
       "1848  [Я, был, неописуемо, удивлён, узнав, о, сущест...   \n",
       "881   [Я, работаю, с, бактериями, Сейчас, я, покажу,...   \n",
       "1757  [Привет, я, здесь, чтобы, поговорить, с, вами,...   \n",
       "1199  [Я, глава, отдела, развития, общественной, орг...   \n",
       "1855  [Я, думаю, мой, взгляд, на, простоту, можно, о...   \n",
       "\n",
       "                                           text_stemmed  \\\n",
       "id                                                        \n",
       "1848  [я, был, неописуем, удивл, узна, о, существова...   \n",
       "881   [я, работа, с, бактер, сейчас, я, покаж, вам, ...   \n",
       "1757  [привет, я, зде, чтоб, поговор, с, вам, о, важ...   \n",
       "1199  [я, глав, отдел, развит, обществен, организац,...   \n",
       "1855  [я, дума, мо, взгляд, на, простот, можн, отлич...   \n",
       "\n",
       "                                             text_final  \n",
       "id                                                       \n",
       "1848  я был неописуем удивл узна о существован орган...  \n",
       "881   я работа с бактер сейчас я покаж вам сдела мно...  \n",
       "1757  привет я зде чтоб поговор с вам о важност похв...  \n",
       "1199  я глав отдел развит обществен организац робин ...  \n",
       "1855  я дума мо взгляд на простот можн отличн проилл...  "
      ]
     },
     "execution_count": 15,
     "metadata": {},
     "output_type": "execute_result"
    }
   ],
   "source": [
    "def attaching_to_a_string(list_of_words):\n",
    "    only_one_string = ''\n",
    "    for word in list_of_words:\n",
    "        only_one_string = only_one_string+word+' '\n",
    "    return only_one_string\n",
    "\n",
    "train['text_final'] = train['text_stemmed'].apply(attaching_to_a_string)\n",
    "train.head()"
   ]
  },
  {
   "cell_type": "markdown",
   "metadata": {},
   "source": [
    "### Предварительная обработка тестовых премеров\n",
    "\n",
    "Повторяем целый процесс предварительной обработки текстов для премеров в тестированном фрайме.\n",
    "\n",
    "Потребуются около двух минуты."
   ]
  },
  {
   "cell_type": "code",
   "execution_count": 16,
   "metadata": {},
   "outputs": [
    {
     "name": "stdout",
     "output_type": "stream",
     "text": [
      "Wall time: 1min 55s\n"
     ]
    }
   ],
   "source": [
    "%%time\n",
    "test['text_tokenized'] = test['text_original'].apply(tokenizer.tokenize)\n",
    "test['text_stemmed'] = test['text_tokenized'].apply(stemming_from_lists)\n",
    "test['text_final'] = test['text_stemmed'].apply(attaching_to_a_string)"
   ]
  },
  {
   "cell_type": "markdown",
   "metadata": {},
   "source": [
    "Проверяем, что все проводилось правильно"
   ]
  },
  {
   "cell_type": "code",
   "execution_count": 17,
   "metadata": {},
   "outputs": [
    {
     "data": {
      "text/html": [
       "<div>\n",
       "<style>\n",
       "    .dataframe thead tr:only-child th {\n",
       "        text-align: right;\n",
       "    }\n",
       "\n",
       "    .dataframe thead th {\n",
       "        text-align: left;\n",
       "    }\n",
       "\n",
       "    .dataframe tbody tr th {\n",
       "        vertical-align: top;\n",
       "    }\n",
       "</style>\n",
       "<table border=\"1\" class=\"dataframe\">\n",
       "  <thead>\n",
       "    <tr style=\"text-align: right;\">\n",
       "      <th></th>\n",
       "      <th>text_original</th>\n",
       "      <th>header</th>\n",
       "      <th>text_tokenized</th>\n",
       "      <th>text_stemmed</th>\n",
       "      <th>text_final</th>\n",
       "    </tr>\n",
       "    <tr>\n",
       "      <th>id</th>\n",
       "      <th></th>\n",
       "      <th></th>\n",
       "      <th></th>\n",
       "      <th></th>\n",
       "      <th></th>\n",
       "    </tr>\n",
       "  </thead>\n",
       "  <tbody>\n",
       "    <tr>\n",
       "      <th>505</th>\n",
       "      <td>Когда я делаю свою работу, люди меня ненавидят...</td>\n",
       "      <td>{'videourl': 'http://download.ted.com/talks/Sa...</td>\n",
       "      <td>[Когда, я, делаю, свою, работу, люди, меня, не...</td>\n",
       "      <td>[когд, я, дела, сво, работ, люд, мен, ненавид,...</td>\n",
       "      <td>когд я дела сво работ люд мен ненавид прич чем...</td>\n",
       "    </tr>\n",
       "    <tr>\n",
       "      <th>734</th>\n",
       "      <td>Мой друг-политолог несколько месяцев назад оче...</td>\n",
       "      <td>{'videourl': 'http://download.ted.com/talks/Ad...</td>\n",
       "      <td>[Мой, друг, политолог, несколько, месяцев, наз...</td>\n",
       "      <td>[мо, друг, политолог, нескольк, месяц, назад, ...</td>\n",
       "      <td>мо друг политолог нескольк месяц назад очен то...</td>\n",
       "    </tr>\n",
       "    <tr>\n",
       "      <th>1526</th>\n",
       "      <td>Я - Дэвид Хенсон, и я делаю роботов с характер...</td>\n",
       "      <td>{'videourl': 'http://download.ted.com/talks/Da...</td>\n",
       "      <td>[Я, Дэвид, Хенсон, и, я, делаю, роботов, с, ха...</td>\n",
       "      <td>[я, дэвид, хенсон, и, я, дела, робот, с, харак...</td>\n",
       "      <td>я дэвид хенсон и я дела робот с характер и эт ...</td>\n",
       "    </tr>\n",
       "    <tr>\n",
       "      <th>1160</th>\n",
       "      <td>Вселенная очень велика. Мы живем в галактике, ...</td>\n",
       "      <td>{'videourl': 'http://download.ted.com/talks/Se...</td>\n",
       "      <td>[Вселенная, очень, велика, Мы, живем, в, галак...</td>\n",
       "      <td>[вселен, очен, велик, мы, жив, в, галактик, в,...</td>\n",
       "      <td>вселен очен велик мы жив в галактик в галактик...</td>\n",
       "    </tr>\n",
       "    <tr>\n",
       "      <th>1027</th>\n",
       "      <td>Если бы ваша жизнь была книгой, а вы — её авто...</td>\n",
       "      <td>{'videourl': 'http://download.ted.com/talks/Am...</td>\n",
       "      <td>[Если, бы, ваша, жизнь, была, книгой, а, вы, е...</td>\n",
       "      <td>[есл, бы, ваш, жизн, был, книг, а, вы, е, авто...</td>\n",
       "      <td>есл бы ваш жизн был книг а вы е автор то по ка...</td>\n",
       "    </tr>\n",
       "  </tbody>\n",
       "</table>\n",
       "</div>"
      ],
      "text/plain": [
       "                                          text_original  \\\n",
       "id                                                        \n",
       "505   Когда я делаю свою работу, люди меня ненавидят...   \n",
       "734   Мой друг-политолог несколько месяцев назад оче...   \n",
       "1526  Я - Дэвид Хенсон, и я делаю роботов с характер...   \n",
       "1160  Вселенная очень велика. Мы живем в галактике, ...   \n",
       "1027  Если бы ваша жизнь была книгой, а вы — её авто...   \n",
       "\n",
       "                                                 header  \\\n",
       "id                                                        \n",
       "505   {'videourl': 'http://download.ted.com/talks/Sa...   \n",
       "734   {'videourl': 'http://download.ted.com/talks/Ad...   \n",
       "1526  {'videourl': 'http://download.ted.com/talks/Da...   \n",
       "1160  {'videourl': 'http://download.ted.com/talks/Se...   \n",
       "1027  {'videourl': 'http://download.ted.com/talks/Am...   \n",
       "\n",
       "                                         text_tokenized  \\\n",
       "id                                                        \n",
       "505   [Когда, я, делаю, свою, работу, люди, меня, не...   \n",
       "734   [Мой, друг, политолог, несколько, месяцев, наз...   \n",
       "1526  [Я, Дэвид, Хенсон, и, я, делаю, роботов, с, ха...   \n",
       "1160  [Вселенная, очень, велика, Мы, живем, в, галак...   \n",
       "1027  [Если, бы, ваша, жизнь, была, книгой, а, вы, е...   \n",
       "\n",
       "                                           text_stemmed  \\\n",
       "id                                                        \n",
       "505   [когд, я, дела, сво, работ, люд, мен, ненавид,...   \n",
       "734   [мо, друг, политолог, нескольк, месяц, назад, ...   \n",
       "1526  [я, дэвид, хенсон, и, я, дела, робот, с, харак...   \n",
       "1160  [вселен, очен, велик, мы, жив, в, галактик, в,...   \n",
       "1027  [есл, бы, ваш, жизн, был, книг, а, вы, е, авто...   \n",
       "\n",
       "                                             text_final  \n",
       "id                                                       \n",
       "505   когд я дела сво работ люд мен ненавид прич чем...  \n",
       "734   мо друг политолог нескольк месяц назад очен то...  \n",
       "1526  я дэвид хенсон и я дела робот с характер и эт ...  \n",
       "1160  вселен очен велик мы жив в галактик в галактик...  \n",
       "1027  есл бы ваш жизн был книг а вы е автор то по ка...  "
      ]
     },
     "execution_count": 17,
     "metadata": {},
     "output_type": "execute_result"
    }
   ],
   "source": [
    "test.head()"
   ]
  },
  {
   "cell_type": "markdown",
   "metadata": {},
   "source": [
    "# Создание модели машинного обучения\n",
    "\n",
    "### Stopwords\n",
    "\n",
    "Как первый шаг процесса обучения, создаем список чаще всего слов русского языка, чтобы их не включить в векторизатор. Те слова, такие как \"а\", \"но\", \"и\", и т.д., не только не добавляют семантического значения к текстам, но на самом деле уменьшают прогностический потенциал моделей. \n",
    "\n",
    "NLKT к счастью предлагает конструктор stopwords, который содержит список всех слов, ненужных нашей модели."
   ]
  },
  {
   "cell_type": "code",
   "execution_count": 18,
   "metadata": {
    "collapsed": true,
    "scrolled": true
   },
   "outputs": [],
   "source": [
    "stopwords = nltk.corpus.stopwords.words('russian')"
   ]
  },
  {
   "cell_type": "markdown",
   "metadata": {},
   "source": [
    "### Входящие и целевые переменные\n",
    "\n",
    "А теперь указываем обработанные строки от train['text_final'] в входящую переменную нашей модели, и тематические классы от text['class'] в массив с этикетами для схождения с градиентным спуском."
   ]
  },
  {
   "cell_type": "code",
   "execution_count": 19,
   "metadata": {
    "collapsed": true
   },
   "outputs": [],
   "source": [
    "X = train['text_final']\n",
    "Y = train['class']"
   ]
  },
  {
   "cell_type": "markdown",
   "metadata": {},
   "source": [
    "### Создание модели и определение его оптимальных гиперпараметров\n",
    "\n",
    "После создания векторизатора и классификатора, и также пайплайна, содержащего их оба, находим оптимальные параметры векторизатора и классификатора с помощью конструктора GridSearchCV,\n",
    "\n",
    "Конкурентные параметры, которые входят в процесс пойска сетки, следующие:\n",
    "\n",
    "#### 1) Для векторизатора:\n",
    "    \n",
    "- use_idf: True or False\n",
    "\n",
    "    рассчитивается ли обратная частота документов (*inverse document frequency* на английском) для повторного взвешивания слов на основе их редкости в текстах.\n",
    "    Полное описание здесь: http://scikit-learn.org/stable/modules/feature_extraction.html#tfidf-term-weighting\n",
    "    \n",
    "\n",
    "- ngram_range: униграммы, униграммы и биграммы, или только биграммы.\n",
    "    \n",
    "    Распределяются ли строки текстов на множества единых слов, единых слов и пар, или пар только.\n",
    "    \n",
    "#### 2) Для классификатора:\n",
    "\n",
    "- loss: 'hinge' or 'log'\n",
    "    \n",
    "    Целевая функция 'hinge' навязывет модели поведение, аналогичное к линейной SVM; а функция 'log' определяет вероятностный классификатор, аналогичный к модели логистической регрессии.\n",
    "    \n",
    "Для расчета требуются около 6 минут на CPU"
   ]
  },
  {
   "cell_type": "code",
   "execution_count": 20,
   "metadata": {},
   "outputs": [
    {
     "name": "stdout",
     "output_type": "stream",
     "text": [
      "Fitting 3 folds for each of 12 candidates, totalling 36 fits\n"
     ]
    },
    {
     "name": "stderr",
     "output_type": "stream",
     "text": [
      "[Parallel(n_jobs=-1)]: Done  36 out of  36 | elapsed:  4.9min finished\n",
      "C:\\ProgramData\\Anaconda3\\lib\\site-packages\\sklearn\\linear_model\\stochastic_gradient.py:128: FutureWarning: max_iter and tol parameters have been added in <class 'sklearn.linear_model.stochastic_gradient.SGDClassifier'> in 0.19. If both are left unset, they default to max_iter=5 and tol=None. If tol is not None, max_iter defaults to max_iter=1000. From 0.21, default max_iter will be 1000, and default tol will be 1e-3.\n",
      "  \"and default tol will be 1e-3.\" % type(self), FutureWarning)\n"
     ]
    },
    {
     "name": "stdout",
     "output_type": "stream",
     "text": [
      "Computation done in 301 seconds\n",
      "\n",
      "Parameters used for GridSearch: \n",
      "{'sgd__loss': ('hinge', 'log'),\n",
      " 'tfidf__ngram_range': ((1, 1), (1, 2), (2, 2)),\n",
      " 'tfidf__use_idf': (True, False)}\n",
      "\n",
      "Parameters selected as the best fit: \n",
      "{'sgd__loss': 'log', 'tfidf__ngram_range': (1, 1), 'tfidf__use_idf': True}\n",
      "\n",
      " 0.9902439024390244\n"
     ]
    }
   ],
   "source": [
    "pipeline = Pipeline([('tfidf',TfidfVectorizer(stop_words=stopwords,\n",
    "                                             strip_accents=None)),\n",
    "                     ('sgd',SGDClassifier(random_state=42))\n",
    "                    ])\n",
    "\n",
    "parameters = {'tfidf__use_idf':(True,False),\n",
    "              'tfidf__ngram_range':((1,1),(1,2),(2,2)),\n",
    "              'sgd__loss':('hinge','log')\n",
    "             }\n",
    "\n",
    "grid_search = GridSearchCV(pipeline,\n",
    "                           parameters,\n",
    "                           n_jobs=-1,                     \n",
    "                           verbose=1\n",
    "                          )\n",
    "\n",
    "t = time.time()\n",
    "grid_search.fit(X,Y)\n",
    "print('Computation done in {} seconds'.format(int(time.time()-t)))\n",
    "\n",
    "print('\\nParameters used for GridSearch: ')\n",
    "pprint(parameters)\n",
    "print('\\nParameters selected as the best fit: ')\n",
    "pprint(grid_search.best_params_)\n",
    "print('\\n',grid_search.score(X,Y))"
   ]
  },
  {
   "cell_type": "markdown",
   "metadata": {},
   "source": [
    "GridSearch решил, что самый оптимальный алгоритм обучения вычисляет логистическую регрессию на единые слова текстов, и взвешивает те слова на основе их обратной частоты в документах."
   ]
  },
  {
   "cell_type": "markdown",
   "metadata": {},
   "source": [
    "# Определение тематических классов тестовых премеров\n",
    "\n",
    "Самый эффективный алгоритм можно использовать для определения классов текстов, наблюдавшихся в течение процесса обучения.\n",
    "\n",
    "После обучения созданного конструктора, метод .predict() GridSearchCV автоматически взывает метод .predict() самой лучшей обученной модели. Возвращаем таким образом самые вероятные тематические классы тестовых текстов."
   ]
  },
  {
   "cell_type": "code",
   "execution_count": 21,
   "metadata": {},
   "outputs": [
    {
     "data": {
      "text/plain": [
       "array([1, 1, 2, 1, 1, 1, 1, 2, 2, 1, 1, 1, 1, 1, 1, 2, 1, 2, 6, 1, 1, 1,\n",
       "       1, 1, 1, 2, 1, 1, 2, 1, 4, 1, 1, 1, 2, 1, 1, 2, 2, 1, 1, 1, 1, 1,\n",
       "       1, 1, 1, 1, 2, 1, 1, 2, 1, 1, 1, 1, 4, 1, 1, 2, 1, 1, 1, 1, 1, 1,\n",
       "       1, 1, 2, 1, 3, 1, 1, 1, 1, 1, 1, 1, 1, 1, 1, 2, 4, 1, 1, 1, 1, 1,\n",
       "       1, 2, 1, 1, 1, 3, 1, 1, 1, 1, 3, 1, 1, 1, 2, 1, 6, 1, 1, 1, 1, 1,\n",
       "       1, 1, 1, 2, 1, 2, 1, 2, 1, 1, 1, 1, 1, 1, 4, 1, 1, 1, 1, 1, 1, 1,\n",
       "       2, 2, 1, 4, 1, 1, 1, 1, 2, 1, 1, 1, 1, 1, 1, 1, 1, 2, 1, 1, 1, 1,\n",
       "       4, 1, 4, 1, 1, 1, 1, 1, 2, 1, 1, 1, 1, 1, 2, 2, 1, 1, 1, 1, 2, 1,\n",
       "       1, 1, 1, 3, 4, 1, 1, 1, 1, 1, 1, 1, 1, 4, 1, 1, 6, 1, 2, 1, 1, 1,\n",
       "       1, 1, 1, 1, 1, 1, 1, 1, 1, 2, 2, 1, 4, 1, 1, 1, 6, 1, 1, 1, 2, 2,\n",
       "       1, 6, 1, 1, 3, 4, 3, 1, 1, 1, 2, 4, 2, 1, 2, 2, 1, 1, 1, 1, 1, 4,\n",
       "       1, 1, 1, 3, 2, 1, 6, 2, 1, 1, 1, 1, 1, 1, 1, 1, 1, 1, 1, 1, 1, 1,\n",
       "       1, 1, 1, 1, 1, 1, 1, 1, 1, 1, 1, 1, 1, 1, 2, 2, 1, 1, 4, 1, 1, 1,\n",
       "       1, 1, 4, 1, 4, 1, 1, 1, 1, 1, 1, 1, 1, 1, 1, 1, 1, 1, 1, 1, 2, 1,\n",
       "       1, 1, 3, 2, 3, 1, 4, 4, 1, 1, 1, 1, 4, 4, 1, 6, 2, 1, 1, 1, 2, 1,\n",
       "       1, 1, 1, 1, 1, 1, 1, 1, 4, 4, 1, 1, 1, 1, 1, 1, 1, 1, 1, 1, 6, 2,\n",
       "       1, 1, 2, 1, 1, 3, 2, 1, 2, 6, 1, 2, 1, 1, 1, 1, 2, 2, 1, 1, 2, 3,\n",
       "       1, 1, 1, 1, 1, 1, 1, 1, 1, 1, 1, 1, 1, 1, 1, 1, 3, 1, 1, 1, 1, 1,\n",
       "       1, 1, 2, 1, 1, 1, 1, 2, 2, 2, 3, 1, 3, 1], dtype=int64)"
      ]
     },
     "execution_count": 21,
     "metadata": {},
     "output_type": "execute_result"
    }
   ],
   "source": [
    "predictions = grid_search.predict(test['text_final'])\n",
    "predictions"
   ]
  },
  {
   "cell_type": "markdown",
   "metadata": {},
   "source": [
    "### Обратите внимание!\n",
    "\n",
    "Не понятно почему, но создатели задачи в Kaggle решили пометить тематические классы обучающего файла с 1 по 8, но на самом деле ожидают файл с решениями, содержащий классы тестовых премеров, условное обозначение которых варируется с 0 по 7.\n",
    "Не ясно почему это сделали. Очень важно так вычесть 1 от массива с прогнозами до создания файла с решениями."
   ]
  },
  {
   "cell_type": "code",
   "execution_count": 22,
   "metadata": {},
   "outputs": [
    {
     "data": {
      "text/html": [
       "<div>\n",
       "<style>\n",
       "    .dataframe thead tr:only-child th {\n",
       "        text-align: right;\n",
       "    }\n",
       "\n",
       "    .dataframe thead th {\n",
       "        text-align: left;\n",
       "    }\n",
       "\n",
       "    .dataframe tbody tr th {\n",
       "        vertical-align: top;\n",
       "    }\n",
       "</style>\n",
       "<table border=\"1\" class=\"dataframe\">\n",
       "  <thead>\n",
       "    <tr style=\"text-align: right;\">\n",
       "      <th></th>\n",
       "      <th>class</th>\n",
       "    </tr>\n",
       "    <tr>\n",
       "      <th>id</th>\n",
       "      <th></th>\n",
       "    </tr>\n",
       "  </thead>\n",
       "  <tbody>\n",
       "    <tr>\n",
       "      <th>505</th>\n",
       "      <td>0</td>\n",
       "    </tr>\n",
       "    <tr>\n",
       "      <th>734</th>\n",
       "      <td>0</td>\n",
       "    </tr>\n",
       "    <tr>\n",
       "      <th>1526</th>\n",
       "      <td>1</td>\n",
       "    </tr>\n",
       "    <tr>\n",
       "      <th>1160</th>\n",
       "      <td>0</td>\n",
       "    </tr>\n",
       "    <tr>\n",
       "      <th>1027</th>\n",
       "      <td>0</td>\n",
       "    </tr>\n",
       "  </tbody>\n",
       "</table>\n",
       "</div>"
      ],
      "text/plain": [
       "      class\n",
       "id         \n",
       "505       0\n",
       "734       0\n",
       "1526      1\n",
       "1160      0\n",
       "1027      0"
      ]
     },
     "execution_count": 22,
     "metadata": {},
     "output_type": "execute_result"
    }
   ],
   "source": [
    "submission = pd.DataFrame({'class':predictions-1}, # IMPORTANT! Keep a -1 here.\n",
    "                                                   # All classes in the submission_sample are shifted by -1,\n",
    "                                                   # with comparison to the classes in the training set\n",
    "                          index=test.index)\n",
    "submission.index.names = ['id']\n",
    "submission.head()"
   ]
  },
  {
   "cell_type": "markdown",
   "metadata": {},
   "source": [
    "# Сохранение файла решений и отправление на Kaggle\n",
    "\n",
    "Те, кто имеют аккаунт в Kaggle, могут отправлять решения задачи на порталь сайта, для автоматического получения оценки.\n",
    "\n",
    "Ссылка для отправления следующая: https://www.kaggle.com/c/2nd-hw-dl-in-nlp/submit"
   ]
  },
  {
   "cell_type": "code",
   "execution_count": 23,
   "metadata": {},
   "outputs": [
    {
     "name": "stdout",
     "output_type": "stream",
     "text": [
      "Done\n"
     ]
    }
   ],
   "source": [
    "submission.to_csv('submission.csv')\n",
    "print('Done')"
   ]
  }
 ],
 "metadata": {
  "kernelspec": {
   "display_name": "Python 3",
   "language": "python",
   "name": "python3"
  },
  "language_info": {
   "codemirror_mode": {
    "name": "ipython",
    "version": 3
   },
   "file_extension": ".py",
   "mimetype": "text/x-python",
   "name": "python",
   "nbconvert_exporter": "python",
   "pygments_lexer": "ipython3",
   "version": "3.6.3"
  }
 },
 "nbformat": 4,
 "nbformat_minor": 2
}
