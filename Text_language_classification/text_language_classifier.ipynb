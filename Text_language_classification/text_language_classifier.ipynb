{
 "cells": [
  {
   "cell_type": "markdown",
   "metadata": {},
   "source": [
    "# LANGUAGE IDENTIFICATION IN TEXTS\n",
    "\n",
    "This notebook identifies the languages in which texts from a collection have been written. The script solves a challenge from Kaggle, the original text and the related datasets of which can be found here: https://www.kaggle.com/c/text-language-classification\n",
    "\n",
    "Before running this script, make sure to download the two datasets, _'data-train.txt'_ and _'data-test.txt'_ in the same folder as the one in which the notebook has been cloned/downloaded. These two datasets are not provided in the repository because they weight a few hundred Mb's each.\n",
    "\n",
    "The scores received are not great, and consist of either (0.33802, 0.35085) for TfidfVectorizer + MNB classifier, or  (0.23250, 0.23222) for the CountVectorizer + MNB classifier. They correspond to a placement in 58th position on the public leaderboard for the CountVectorizer model, or 59th position for the TfidfVectorizer model. The training dataset is however quite big, and it requires a significant computational time for fitting the model: further optimisation of the hyperparameters of the models through GridSearch is thus computationally unfeasible on my computer. The scoring computed on the training dataset is very high for both models, though, amounting to 96% for the Tfidf, and more than 99% for the CV. It is thus possible, as it will be argued later in detail, that the test dataset provided is incomplete or broken, and the scoring performed on its predictions is thus misleading.\n",
    "\n",
    "The idea to use as feature for classification the ngrams in range (1,3), and to run the analyser on the individual characters rather than words, originates from the excellent notebook by Github user danielv775. The notebook can be found here: https://github.com/danielv775/Natural-Language-Identification-Graduate-Project/blob/master/Language%20Identification%20System%20Graduate%20Project.ipynb\n",
    "\n",
    "Given enough computational power, it would be better to test whether a different range of ngram is a better predictor in our particular datasets. This can be tested by the reader, if interested, but it will not be done in this notebook."
   ]
  },
  {
   "cell_type": "markdown",
   "metadata": {},
   "source": [
    "# Note for Linux and MacOS-X users\n",
    "\n",
    "I have added some acoustic signals on the course of the script to periodically inform me of the status of the computation, without having the need to look at the screen. If not using Windows, remove the next cell, and then Find and Replace the regex _winsound.Beep(.*)_ with a null string on the whole notebook before running the code, otherwise you may encounter some errors."
   ]
  },
  {
   "cell_type": "code",
   "execution_count": 3,
   "metadata": {
    "collapsed": true
   },
   "outputs": [],
   "source": [
    "import winsound # remove if not using windows"
   ]
  },
  {
   "cell_type": "markdown",
   "metadata": {},
   "source": [
    "# Basic libraries for algebra, datasets, file dumping and loading"
   ]
  },
  {
   "cell_type": "code",
   "execution_count": 4,
   "metadata": {},
   "outputs": [],
   "source": [
    "import numpy as np\n",
    "np.random.seed(42)\n",
    "import matplotlib.pyplot as plt\n",
    "import pandas as pd \n",
    "\n",
    "import time\n",
    "import pickle"
   ]
  },
  {
   "cell_type": "markdown",
   "metadata": {},
   "source": [
    "# Machine learning models\n",
    "\n",
    "We will be using the following constructors from _sklearn_:\n",
    "\n",
    "- TfidfVectorizer: http://scikit-learn.org/stable/modules/generated/sklearn.feature_extraction.text.TfidfVectorizer.html\n",
    "- CountVectorizer: http://scikit-learn.org/stable/modules/generated/sklearn.feature_extraction.text.CountVectorizer.html\n",
    "- MultinomialNB:   http://scikit-learn.org/stable/modules/generated/sklearn.naive_bayes.MultinomialNB.html\n",
    "- Pipeline:        http://scikit-learn.org/stable/modules/generated/sklearn.pipeline.Pipeline.html\n",
    "\n",
    "Read the documentation linked for a description of the characteristics of each constructor. The first three will be analysed more in detail later."
   ]
  },
  {
   "cell_type": "code",
   "execution_count": 5,
   "metadata": {},
   "outputs": [],
   "source": [
    "from sklearn.feature_extraction.text import TfidfVectorizer\n",
    "from sklearn.feature_extraction.text import CountVectorizer\n",
    "from sklearn.naive_bayes import MultinomialNB\n",
    "from sklearn.pipeline import Pipeline"
   ]
  },
  {
   "cell_type": "markdown",
   "metadata": {},
   "source": [
    "# Loading the training data\n",
    "\n",
    "The test data comes in a tab-separated file, composed by two columns and 383111 rows, with a header.\n",
    "\n",
    "It can be easily loaded into a pandas dataframe by passing the '\\t', TAB, value to the parameter _sep_.\n",
    "\n",
    "The file occupies a bit more than 250Mb, and it may thus take a few seconds for it to load."
   ]
  },
  {
   "cell_type": "code",
   "execution_count": 6,
   "metadata": {
    "scrolled": true
   },
   "outputs": [
    {
     "data": {
      "text/html": [
       "<div>\n",
       "<style>\n",
       "    .dataframe thead tr:only-child th {\n",
       "        text-align: right;\n",
       "    }\n",
       "\n",
       "    .dataframe thead th {\n",
       "        text-align: left;\n",
       "    }\n",
       "\n",
       "    .dataframe tbody tr th {\n",
       "        vertical-align: top;\n",
       "    }\n",
       "</style>\n",
       "<table border=\"1\" class=\"dataframe\">\n",
       "  <thead>\n",
       "    <tr style=\"text-align: right;\">\n",
       "      <th></th>\n",
       "      <th>lang</th>\n",
       "      <th>text</th>\n",
       "    </tr>\n",
       "  </thead>\n",
       "  <tbody>\n",
       "    <tr>\n",
       "      <th>0</th>\n",
       "      <td>ru</td>\n",
       "      <td>Притом же это республиканское устройство бурсы...</td>\n",
       "    </tr>\n",
       "    <tr>\n",
       "      <th>1</th>\n",
       "      <td>ru</td>\n",
       "      <td>Ты упомянул о том, что могло бы привести меня ...</td>\n",
       "    </tr>\n",
       "    <tr>\n",
       "      <th>2</th>\n",
       "      <td>uk</td>\n",
       "      <td>«Отже йому і спиться, і байдуже — хропе собі!....</td>\n",
       "    </tr>\n",
       "    <tr>\n",
       "      <th>3</th>\n",
       "      <td>pl</td>\n",
       "      <td>Kiedy słońce, odchodząc za horyzont, poczęło w...</td>\n",
       "    </tr>\n",
       "    <tr>\n",
       "      <th>4</th>\n",
       "      <td>ru</td>\n",
       "      <td>Странник выудил их всех, всех до единого, и с ...</td>\n",
       "    </tr>\n",
       "  </tbody>\n",
       "</table>\n",
       "</div>"
      ],
      "text/plain": [
       "  lang                                               text\n",
       "0   ru  Притом же это республиканское устройство бурсы...\n",
       "1   ru  Ты упомянул о том, что могло бы привести меня ...\n",
       "2   uk  «Отже йому і спиться, і байдуже — хропе собі!....\n",
       "3   pl  Kiedy słońce, odchodząc za horyzont, poczęło w...\n",
       "4   ru  Странник выудил их всех, всех до единого, и с ..."
      ]
     },
     "execution_count": 6,
     "metadata": {},
     "output_type": "execute_result"
    }
   ],
   "source": [
    "train = pd.read_csv('data-train.txt',sep='\\t')\n",
    "train.head()"
   ]
  },
  {
   "cell_type": "code",
   "execution_count": 7,
   "metadata": {},
   "outputs": [
    {
     "data": {
      "text/plain": [
       "(383111, 2)"
      ]
     },
     "execution_count": 7,
     "metadata": {},
     "output_type": "execute_result"
    }
   ],
   "source": [
    "train.shape"
   ]
  },
  {
   "cell_type": "markdown",
   "metadata": {},
   "source": [
    "# Extracting the list of available languages\n",
    "\n",
    "The list of languages present in the dataframe, in the order in which they first appear, can be extracted by calling the _.unique()_ method on the column of interest.\n",
    "\n",
    "As shown below, there are 26 languages present in the training data."
   ]
  },
  {
   "cell_type": "code",
   "execution_count": 8,
   "metadata": {
    "scrolled": true
   },
   "outputs": [
    {
     "data": {
      "text/plain": [
       "(26, array(['be', 'bg', 'cs', 'de', 'el', 'en', 'es', 'fr', 'hr', 'hsb', 'hy',\n",
       "        'it', 'la', 'lt', 'lv', 'mk', 'nl', 'pl', 'pt', 'ro', 'ru', 'sk',\n",
       "        'sl', 'sr', 'sv', 'uk'], dtype=object))"
      ]
     },
     "execution_count": 8,
     "metadata": {},
     "output_type": "execute_result"
    }
   ],
   "source": [
    "train.sort_values('lang',inplace=True)\n",
    "languages = train['lang'].unique()\n",
    "len(languages), languages"
   ]
  },
  {
   "cell_type": "markdown",
   "metadata": {},
   "source": [
    "These 26 codes correspond to as many languages. The standard used is called ISO 639; see the comments on linguistics at the bottom of the notebook for further reference."
   ]
  },
  {
   "cell_type": "markdown",
   "metadata": {},
   "source": [
    "# Checking the distribution of languages\n",
    "\n",
    "We can now verify whether the dataset provided contains over or under-representation of any of the languages with respect to the others. If this is the case, the ML models will receive an implicit bias in the input data, that would maybe affet their predictive capability."
   ]
  },
  {
   "cell_type": "code",
   "execution_count": 9,
   "metadata": {
    "scrolled": true
   },
   "outputs": [
    {
     "data": {
      "text/plain": [
       "ru     171728\n",
       "en      71582\n",
       "uk      33507\n",
       "pl      24394\n",
       "de      17509\n",
       "bg      14880\n",
       "be      14855\n",
       "fr       9354\n",
       "hy       4474\n",
       "it       3353\n",
       "lv       2421\n",
       "nl       2155\n",
       "mk       1789\n",
       "cs       1787\n",
       "hr       1734\n",
       "sr       1704\n",
       "sl       1600\n",
       "sk       1588\n",
       "es        767\n",
       "la        497\n",
       "pt        346\n",
       "sv        339\n",
       "ro        225\n",
       "el        223\n",
       "hsb       181\n",
       "lt        119\n",
       "Name: lang, dtype: int64"
      ]
     },
     "execution_count": 9,
     "metadata": {},
     "output_type": "execute_result"
    }
   ],
   "source": [
    "language_distribution = train['lang'].value_counts()\n",
    "language_distribution"
   ]
  },
  {
   "cell_type": "markdown",
   "metadata": {},
   "source": [
    "It seems like Russian and English languages are strongly overrepresented in the training dataset. Russian in particular accounts for 44% of the texts, while Russian and English together account for most, or 63%, of the whole dataset.\n",
    "We can plot the frequency of each language in the dataset with the help of Pyplot."
   ]
  },
  {
   "cell_type": "code",
   "execution_count": 10,
   "metadata": {
    "scrolled": false
   },
   "outputs": [
    {
     "data": {
      "image/png": "[encoded data removed]",
      "text/plain": [
       "<Figure size 1152x576 with 1 Axes>"
      ]
     },
     "metadata": {},
     "output_type": "display_data"
    }
   ],
   "source": [
    "plt.figure(figsize=(16,8))\n",
    "plt.bar(language_distribution.index,language_distribution)\n",
    "plt.grid(True)\n",
    "plt.show()"
   ]
  },
  {
   "cell_type": "markdown",
   "metadata": {},
   "source": [
    "As can be noted by looking at the bar graph above, some languages are clearly overrepresented in the dataset. While it is not going to be the case for this particular dataset, if the _.score()_ method of the trained ML model shows an unsatisfactory result, it might become necessary to either normalize the data in preprocessing, or to provide to the ML model with batches of training samples that contain a uniform distribution of languages.\n",
    "\n",
    "For now, we will however continue with preprocessing and cleaning the dataset, and perform some more exploratory analysis. The score computed on not-normalised data is high enough, and we will thus not bother with normalisation.\n",
    "\n",
    "This peculiar distribution however allows us to develop a baseline for evaluating the performance of our ML model. Since almost half of the texts belong the the 'ru' category, a naive approach that predicts all texts as belonging to 'ru' would be correct almost half of the times, and specifically in 44% of the cases. Any ML model whose accuracy is lower than that would thus be unsatisfactory."
   ]
  },
  {
   "cell_type": "code",
   "execution_count": 11,
   "metadata": {
    "scrolled": true
   },
   "outputs": [
    {
     "name": "stdout",
     "output_type": "stream",
     "text": [
      "<class 'pandas.core.frame.DataFrame'>\n",
      "Int64Index: 383111 entries, 351196 to 355843\n",
      "Data columns (total 2 columns):\n",
      "lang    383111 non-null category\n",
      "text    383108 non-null object\n",
      "dtypes: category(1), object(1)\n",
      "memory usage: 6.2+ MB\n"
     ]
    }
   ],
   "source": [
    "train['lang'] = train['lang'].astype('category')\n",
    "train.info()"
   ]
  },
  {
   "cell_type": "markdown",
   "metadata": {},
   "source": [
    "The cell above converts the values in the 'lang' column of the dataframe to categorical data, in order to reduce the memory consumption of the same. This process is also generally advisable when performing classification: in fact, if the classes for the data show no relationship and no overlapping, it becomes important not to provide the ML model with labels that could be ordered in any manner. It is worth to remember that string objects allow for \"less than\" and \"greater than\" methods to be called, and that this could affect the predictive capacity of the model.\n",
    "\n",
    "The cell below tests whether categorical objects, as opposed to strings, can be compared and ordered"
   ]
  },
  {
   "cell_type": "code",
   "execution_count": 12,
   "metadata": {},
   "outputs": [
    {
     "name": "stdout",
     "output_type": "stream",
     "text": [
      "Is 'a' < 'b'? True\n",
      "Error! Unordered Categoricals can only compare equality or not\n"
     ]
    }
   ],
   "source": [
    "a_str = 'a'\n",
    "b_str = 'b'\n",
    "print('Is \\'a\\' < \\'b\\'? {}'.format(a_str<b_str)) # String objects can be oredered\n",
    "\n",
    "a_cat = pd.Categorical('a')\n",
    "b_cat = pd.Categorical('b')\n",
    "try:\n",
    "    print('Is \\'a\\' < \\'b\\'? {}'.format(a_cat<b_cat))\n",
    "except TypeError:\n",
    "    print('Error! Unordered Categoricals can only compare equality or not')"
   ]
  },
  {
   "cell_type": "markdown",
   "metadata": {},
   "source": [
    "# Removing null values\n",
    "\n",
    "The training datasets comes with some null values for the text column. It was asked to the creator of the competition whether this was intended or not, and it was answered that yes, this was intended. We will thus identify the null strings of text, but they will not be removed from the dataset.\n",
    "Source: https://www.kaggle.com/c/text-language-classification/discussion/23924\n",
    "\n",
    "However, in order to feed those rows to the model, it will be necessary to convert the NaN values to empty strings, otherwise the Vectorizers will raise an error.\n",
    "This is done by the next cell."
   ]
  },
  {
   "cell_type": "code",
   "execution_count": 13,
   "metadata": {},
   "outputs": [
    {
     "data": {
      "text/html": [
       "<div>\n",
       "<style>\n",
       "    .dataframe thead tr:only-child th {\n",
       "        text-align: right;\n",
       "    }\n",
       "\n",
       "    .dataframe thead th {\n",
       "        text-align: left;\n",
       "    }\n",
       "\n",
       "    .dataframe tbody tr th {\n",
       "        vertical-align: top;\n",
       "    }\n",
       "</style>\n",
       "<table border=\"1\" class=\"dataframe\">\n",
       "  <thead>\n",
       "    <tr style=\"text-align: right;\">\n",
       "      <th></th>\n",
       "      <th>lang</th>\n",
       "      <th>text</th>\n",
       "    </tr>\n",
       "  </thead>\n",
       "  <tbody>\n",
       "    <tr>\n",
       "      <th>40881</th>\n",
       "      <td>en</td>\n",
       "      <td></td>\n",
       "    </tr>\n",
       "    <tr>\n",
       "      <th>336268</th>\n",
       "      <td>lv</td>\n",
       "      <td></td>\n",
       "    </tr>\n",
       "    <tr>\n",
       "      <th>180209</th>\n",
       "      <td>mk</td>\n",
       "      <td></td>\n",
       "    </tr>\n",
       "  </tbody>\n",
       "</table>\n",
       "</div>"
      ],
      "text/plain": [
       "       lang text\n",
       "40881    en     \n",
       "336268   lv     \n",
       "180209   mk     "
      ]
     },
     "execution_count": 13,
     "metadata": {},
     "output_type": "execute_result"
    }
   ],
   "source": [
    "mask = train['text'].isnull()\n",
    "train.loc[mask,'text'] = ''\n",
    "train[mask]"
   ]
  },
  {
   "cell_type": "code",
   "execution_count": 14,
   "metadata": {},
   "outputs": [
    {
     "name": "stdout",
     "output_type": "stream",
     "text": [
      "<class 'pandas.core.frame.DataFrame'>\n",
      "Int64Index: 383111 entries, 351196 to 355843\n",
      "Data columns (total 2 columns):\n",
      "lang    383111 non-null category\n",
      "text    383111 non-null object\n",
      "dtypes: category(1), object(1)\n",
      "memory usage: 6.2+ MB\n"
     ]
    }
   ],
   "source": [
    "train.info()"
   ]
  },
  {
   "cell_type": "markdown",
   "metadata": {},
   "source": [
    "We can now see that there are no more null values in our datasets.\n",
    "\n",
    "It is now worth checking whether the texts are uniformally distributed in size, or whether some languages tend to have texts, whose size is significantly different from the average size of texts in other languages.\n",
    "\n",
    "To do this, we can add a new column in our dataframe, by applying the len(string) function over the text column. We will then compute some statistical measures on the length of the texts."
   ]
  },
  {
   "cell_type": "code",
   "execution_count": 15,
   "metadata": {},
   "outputs": [
    {
     "data": {
      "text/html": [
       "<div>\n",
       "<style>\n",
       "    .dataframe thead tr:only-child th {\n",
       "        text-align: right;\n",
       "    }\n",
       "\n",
       "    .dataframe thead th {\n",
       "        text-align: left;\n",
       "    }\n",
       "\n",
       "    .dataframe tbody tr th {\n",
       "        vertical-align: top;\n",
       "    }\n",
       "</style>\n",
       "<table border=\"1\" class=\"dataframe\">\n",
       "  <thead>\n",
       "    <tr style=\"text-align: right;\">\n",
       "      <th></th>\n",
       "      <th>lang</th>\n",
       "      <th>text</th>\n",
       "      <th>length</th>\n",
       "    </tr>\n",
       "  </thead>\n",
       "  <tbody>\n",
       "    <tr>\n",
       "      <th>351196</th>\n",
       "      <td>be</td>\n",
       "      <td>А я б… Баюся, што я змяніўся ў твары, стаў стр...</td>\n",
       "      <td>347</td>\n",
       "    </tr>\n",
       "    <tr>\n",
       "      <th>336229</th>\n",
       "      <td>be</td>\n",
       "      <td>Справа датыкалася аднаго кантроля, вельмі адда...</td>\n",
       "      <td>521</td>\n",
       "    </tr>\n",
       "    <tr>\n",
       "      <th>76362</th>\n",
       "      <td>be</td>\n",
       "      <td>Я зачыню вас у яго пакоях. Добра?\" Я згадзiўся...</td>\n",
       "      <td>419</td>\n",
       "    </tr>\n",
       "    <tr>\n",
       "      <th>310408</th>\n",
       "      <td>be</td>\n",
       "      <td>Я быў побач з чымсьці... З чымсьці фантастычны...</td>\n",
       "      <td>509</td>\n",
       "    </tr>\n",
       "    <tr>\n",
       "      <th>34685</th>\n",
       "      <td>be</td>\n",
       "      <td>“Следчы казаў, што хваробы ёсць такая, псіхічн...</td>\n",
       "      <td>414</td>\n",
       "    </tr>\n",
       "  </tbody>\n",
       "</table>\n",
       "</div>"
      ],
      "text/plain": [
       "       lang                                               text  length\n",
       "351196   be  А я б… Баюся, што я змяніўся ў твары, стаў стр...     347\n",
       "336229   be  Справа датыкалася аднаго кантроля, вельмі адда...     521\n",
       "76362    be  Я зачыню вас у яго пакоях. Добра?\" Я згадзiўся...     419\n",
       "310408   be  Я быў побач з чымсьці... З чымсьці фантастычны...     509\n",
       "34685    be  “Следчы казаў, што хваробы ёсць такая, псіхічн...     414"
      ]
     },
     "execution_count": 15,
     "metadata": {},
     "output_type": "execute_result"
    }
   ],
   "source": [
    "train['length'] = train['text'].apply(len)\n",
    "train.head()"
   ]
  },
  {
   "cell_type": "code",
   "execution_count": 16,
   "metadata": {},
   "outputs": [
    {
     "data": {
      "text/plain": [
       "count    383111.000000\n",
       "mean        470.844766\n",
       "std         184.298463\n",
       "min           0.000000\n",
       "25%         402.000000\n",
       "50%         444.000000\n",
       "75%         503.000000\n",
       "max       20083.000000\n",
       "Name: length, dtype: float64"
      ]
     },
     "execution_count": 16,
     "metadata": {},
     "output_type": "execute_result"
    }
   ],
   "source": [
    "train['length'].describe()"
   ]
  },
  {
   "cell_type": "markdown",
   "metadata": {},
   "source": [
    "It looks like the range of length for the texts in the datasets is sufficiently large, varying from 0, the null strings we converted earlier, to a significantly higher 20'083. However, most of the texts have a length which gravitates between 400 and 500 characters.\n",
    "\n",
    "We can represent the distribution of length per languages by grouping the length column of the dataframe by languages, and plotting a boxplot of the figures."
   ]
  },
  {
   "cell_type": "code",
   "execution_count": 17,
   "metadata": {
    "scrolled": false
   },
   "outputs": [
    {
     "name": "stderr",
     "output_type": "stream",
     "text": [
      "C:\\ProgramData\\Anaconda3\\lib\\site-packages\\numpy\\core\\fromnumeric.py:52: FutureWarning: reshape is deprecated and will raise in a subsequent release. Please use .values.reshape(...) instead\n",
      "  return getattr(obj, method)(*args, **kwds)\n"
     ]
    },
    {
     "data": {
      "image/png": "[encoded data removed]",
      "text/plain": [
       "<Figure size 1152x720 with 1 Axes>"
      ]
     },
     "metadata": {},
     "output_type": "display_data"
    }
   ],
   "source": [
    "train.boxplot(column='length',\n",
    "              by='lang', # Equivalent to calling .groupby('lang') on the whole dataframe before plotting\n",
    "              figsize=(16,10))\n",
    "plt.show()"
   ]
  },
  {
   "cell_type": "markdown",
   "metadata": {},
   "source": [
    "As can be seen above, most texts in all languages have similar measures of central tendencies (the thin blue horizontal lines near the bottom of the graph).\n",
    "\n",
    "The (many) texts containing significantly more characters than the average are considered to be statistical outliers, and are representend as black circles in the graph above. \n",
    "\n",
    "After fitting the models, the score received on this dataset, without normalising the length of the outliers, is considered to be sufficiently high. We can thus avoid normalising the texts on the basis of their length, as this can retrospectively judged to be unnecessarily. Keep however in mind that when working with other datasets it might become necessarily to normalise the length in the various texts before feeding them to the model for training. In this case, it is normally enough to cut the length of the longer texts down to the length of the 99th percentile or so."
   ]
  },
  {
   "cell_type": "markdown",
   "metadata": {},
   "source": [
    "# Loading the test data\n",
    "\n",
    "The test data comes in a second tab-separated file, consisting of a header and a bit less than 400'000 rows."
   ]
  },
  {
   "cell_type": "code",
   "execution_count": 18,
   "metadata": {},
   "outputs": [
    {
     "data": {
      "text/html": [
       "<div>\n",
       "<style>\n",
       "    .dataframe thead tr:only-child th {\n",
       "        text-align: right;\n",
       "    }\n",
       "\n",
       "    .dataframe thead th {\n",
       "        text-align: left;\n",
       "    }\n",
       "\n",
       "    .dataframe tbody tr th {\n",
       "        vertical-align: top;\n",
       "    }\n",
       "</style>\n",
       "<table border=\"1\" class=\"dataframe\">\n",
       "  <thead>\n",
       "    <tr style=\"text-align: right;\">\n",
       "      <th></th>\n",
       "      <th>id</th>\n",
       "      <th>text</th>\n",
       "    </tr>\n",
       "  </thead>\n",
       "  <tbody>\n",
       "    <tr>\n",
       "      <th>0</th>\n",
       "      <td>1</td>\n",
       "      <td>В нескольких шагах от последнего городского ог...</td>\n",
       "    </tr>\n",
       "    <tr>\n",
       "      <th>1</th>\n",
       "      <td>2</td>\n",
       "      <td>Зараз, на відстані від того світу, того життя,...</td>\n",
       "    </tr>\n",
       "    <tr>\n",
       "      <th>2</th>\n",
       "      <td>3</td>\n",
       "      <td>Траур и подавленность висели над всем бальбино...</td>\n",
       "    </tr>\n",
       "    <tr>\n",
       "      <th>3</th>\n",
       "      <td>4</td>\n",
       "      <td>В трюмовете откриха релси, конструкции за желе...</td>\n",
       "    </tr>\n",
       "    <tr>\n",
       "      <th>4</th>\n",
       "      <td>5</td>\n",
       "      <td>Well, said I, coolly, \"if you will not give hi...</td>\n",
       "    </tr>\n",
       "  </tbody>\n",
       "</table>\n",
       "</div>"
      ],
      "text/plain": [
       "   id                                               text\n",
       "0   1  В нескольких шагах от последнего городского ог...\n",
       "1   2  Зараз, на відстані від того світу, того життя,...\n",
       "2   3  Траур и подавленность висели над всем бальбино...\n",
       "3   4  В трюмовете откриха релси, конструкции за желе...\n",
       "4   5  Well, said I, coolly, \"if you will not give hi..."
      ]
     },
     "execution_count": 18,
     "metadata": {},
     "output_type": "execute_result"
    }
   ],
   "source": [
    "test = pd.read_csv('data-test.txt',sep='\\t',encoding='utf-8')\n",
    "test.head()"
   ]
  },
  {
   "cell_type": "code",
   "execution_count": 19,
   "metadata": {},
   "outputs": [
    {
     "name": "stdout",
     "output_type": "stream",
     "text": [
      "<class 'pandas.core.frame.DataFrame'>\n",
      "RangeIndex: 395286 entries, 0 to 395285\n",
      "Data columns (total 2 columns):\n",
      "id      395286 non-null int64\n",
      "text    395278 non-null object\n",
      "dtypes: int64(1), object(1)\n",
      "memory usage: 6.0+ MB\n"
     ]
    }
   ],
   "source": [
    "test.info()"
   ]
  },
  {
   "cell_type": "markdown",
   "metadata": {},
   "source": [
    "As can be seen above, the exact number of rows is 395285. The algorithm of Kaggle for the automatic evaluation of the results however expects the number of rows to be exactly 400'000, and the rows provided are thus insufficient. A solution computed on this test dataset, as it is, will be rejected by the evaluator.\n",
    "\n",
    "It is unclear whether the organiser of the challenge has provided an incomplete dataset as part of the difficulty to overcome, or whether the missing rows are an oversight. The issue can however be solved by reindexing the dataframe with a new index, comprised of all values between 1 and 400'000, and filling the missing rows with blank spaces. The predictions will be then computed on the correctly indexed strings provided in the test dataset, and on the blank spaces added this way.\n",
    "\n",
    "While performing predictions on blank spaces is sure to decrease the score we will receive from Kaggle, this is the only way I could find that allows to submit the file with the solutions."
   ]
  },
  {
   "cell_type": "code",
   "execution_count": 20,
   "metadata": {},
   "outputs": [
    {
     "data": {
      "text/html": [
       "<div>\n",
       "<style>\n",
       "    .dataframe thead tr:only-child th {\n",
       "        text-align: right;\n",
       "    }\n",
       "\n",
       "    .dataframe thead th {\n",
       "        text-align: left;\n",
       "    }\n",
       "\n",
       "    .dataframe tbody tr th {\n",
       "        vertical-align: top;\n",
       "    }\n",
       "</style>\n",
       "<table border=\"1\" class=\"dataframe\">\n",
       "  <thead>\n",
       "    <tr style=\"text-align: right;\">\n",
       "      <th></th>\n",
       "      <th>text</th>\n",
       "    </tr>\n",
       "    <tr>\n",
       "      <th>id</th>\n",
       "      <th></th>\n",
       "    </tr>\n",
       "  </thead>\n",
       "  <tbody>\n",
       "    <tr>\n",
       "      <th>1</th>\n",
       "      <td>В нескольких шагах от последнего городского ог...</td>\n",
       "    </tr>\n",
       "    <tr>\n",
       "      <th>2</th>\n",
       "      <td>Зараз, на відстані від того світу, того життя,...</td>\n",
       "    </tr>\n",
       "    <tr>\n",
       "      <th>3</th>\n",
       "      <td>Траур и подавленность висели над всем бальбино...</td>\n",
       "    </tr>\n",
       "    <tr>\n",
       "      <th>4</th>\n",
       "      <td>В трюмовете откриха релси, конструкции за желе...</td>\n",
       "    </tr>\n",
       "    <tr>\n",
       "      <th>5</th>\n",
       "      <td>Well, said I, coolly, \"if you will not give hi...</td>\n",
       "    </tr>\n",
       "  </tbody>\n",
       "</table>\n",
       "</div>"
      ],
      "text/plain": [
       "                                                 text\n",
       "id                                                   \n",
       "1   В нескольких шагах от последнего городского ог...\n",
       "2   Зараз, на відстані від того світу, того життя,...\n",
       "3   Траур и подавленность висели над всем бальбино...\n",
       "4   В трюмовете откриха релси, конструкции за желе...\n",
       "5   Well, said I, coolly, \"if you will not give hi..."
      ]
     },
     "execution_count": 20,
     "metadata": {},
     "output_type": "execute_result"
    }
   ],
   "source": [
    "test = test.set_index('id') # First we set the index of the dataframe to the ID column\n",
    "test.head()"
   ]
  },
  {
   "cell_type": "code",
   "execution_count": 21,
   "metadata": {},
   "outputs": [
    {
     "data": {
      "text/plain": [
       "Int64Index([     1,      2,      3,      4,      5,      6,      7,      8,\n",
       "                 9,     10,\n",
       "            ...\n",
       "            399991, 399992, 399993, 399994, 399995, 399996, 399997, 399998,\n",
       "            399999, 400000],\n",
       "           dtype='int64', name='id', length=400000)"
      ]
     },
     "execution_count": 21,
     "metadata": {},
     "output_type": "execute_result"
    }
   ],
   "source": [
    "new_index = pd.Index(np.arange(1,400001,1), name=\"id\") # Then we create a new index object, ranging from 1 to 400'000,\n",
    "                                                       # as requested by the automatic evaluator.\n",
    "new_index"
   ]
  },
  {
   "cell_type": "code",
   "execution_count": 22,
   "metadata": {},
   "outputs": [
    {
     "name": "stdout",
     "output_type": "stream",
     "text": [
      "<class 'pandas.core.frame.DataFrame'>\n",
      "Int64Index: 400000 entries, 1 to 400000\n",
      "Data columns (total 1 columns):\n",
      "text    395278 non-null object\n",
      "dtypes: object(1)\n",
      "memory usage: 6.1+ MB\n"
     ]
    }
   ],
   "source": [
    "test = test.reindex(new_index) # Then we reindex the dataframe with the indices newly created.\n",
    "                               # This process will insert null rows where values were missing in the old index.\n",
    "test.info()"
   ]
  },
  {
   "cell_type": "code",
   "execution_count": 23,
   "metadata": {},
   "outputs": [
    {
     "name": "stdout",
     "output_type": "stream",
     "text": [
      "<class 'pandas.core.frame.DataFrame'>\n",
      "Int64Index: 400000 entries, 1 to 400000\n",
      "Data columns (total 1 columns):\n",
      "text    400000 non-null object\n",
      "dtypes: object(1)\n",
      "memory usage: 6.1+ MB\n"
     ]
    }
   ],
   "source": [
    "test['text'].fillna(' ',inplace=True) # The empty rows are filled with blanks\n",
    "test.info()"
   ]
  },
  {
   "cell_type": "markdown",
   "metadata": {},
   "source": [
    "# Pointers to the input variables and the labels\n",
    "\n",
    "Preprocessing is now complete. We should now create pointers to the training texts and labels, and feed them to the ML models.\n",
    "\n",
    "Although it is not mandatory to use the following notation, this is a good practice, as it is common in ML applications to call the input variables to a model with the letter 'X', uppercase, and the target labels with the letter 'y', lowercase."
   ]
  },
  {
   "cell_type": "code",
   "execution_count": 24,
   "metadata": {
    "collapsed": true
   },
   "outputs": [],
   "source": [
    "X = train['text']\n",
    "y = train['lang']"
   ]
  },
  {
   "cell_type": "markdown",
   "metadata": {},
   "source": [
    "# First model: TfidfVectorizer + MultinomialNB\n",
    "\n",
    "### TfidfVectorizer\n",
    "\n",
    "As a preliminary hypothesis, I asked myself how to reduce the impact for the model of the overrepresentation of certain languages in the corpus of documents.\n",
    "\n",
    "The \"IDF\" in Tfidf stands for \"Inverse Document Frequency\", and denotes a value by which all tokens are multiplied when creating the sparse matrix for the vectorizer. Specifically, it is a penalty for those tokens which are strongly represented across the whole corpus of documents, and it is multiplied by the term frequency of the same token.\n",
    "Computationally, the inverse document frequency _idf(t)_ of token t is calculated with the follwing expression:\n",
    "\n",
    "$$idf(t) = \\log{\\frac{1+n_d}{1+df(d,t)}}+1$$\n",
    "\n",
    "For example, if we are computing the idf for the following bigram _t = ('h','i')_, in the collection of documents (383111) provided as training data, and the number of documents in which the bigram appears is 10'000, the _idf_ of t is then:\n",
    "\n",
    "$$n_d = 383111$$\n",
    "\n",
    "$$df(d,t) = 10000$$\n",
    "\n",
    "$$idf(t) = \\log{\\frac{1+383111}{1+10000}}+1 = 2.343$$\n",
    "\n",
    "This value is then multiplied by the term frequency of the token; that is, by the number of times the token appears in a document, divided by the total number of tokens present. The resulting product is assigned to the TF-IDF matrix, in the column corresponding to the token itself, and the row corresponding to the row assigned to the document on which TF-IDF for that token was computed.\n",
    "\n",
    "Source: http://scikit-learn.org/stable/modules/feature_extraction.html#tfidf-term-weighting\n",
    "\n",
    "### Multinomial Naive Bayes\n",
    "\n",
    "Please note: the MNB classifier is not meant to work with the fractional term frequencies that are output by TfidfVectorizer, but only with integer values, such as those output by CountVectorizer. However, as stated in the sklearn documentation, \"in practice fractional counts such as tf-idf may also work\". After testing, they work in this case.\n",
    "\n",
    "The MNB classifier computes the probability distribution that, given the features of a text, this text belongs to each of the classes that were observed during training.\n",
    "\n",
    "The most important parameter for instantiating the MNB classifier is its alpha value, which defaults to 1 if left unspecified, as it is our case. If alpha == 1, the MNB classifier performs on its underlying weighs an operation called \"Laplace smoothing\". Some authors suggest that this type of smoothing is the most effecting for performing categorical classification on texts.\n",
    "\n",
    "Source on the MNB classifier: http://scikit-learn.org/stable/modules/naive_bayes.html#multinomial-naive-bayes\n",
    "\n",
    "Source on Laplace smoothing as the best smoothing for text classification: https://en.wikipedia.org/wiki/Additive_smoothing#cite_note-2"
   ]
  },
  {
   "cell_type": "code",
   "execution_count": 25,
   "metadata": {
    "collapsed": true
   },
   "outputs": [],
   "source": [
    "winsound.Beep(440,3000) # Beeps when starting instantiation of the pipeline"
   ]
  },
  {
   "cell_type": "code",
   "execution_count": 26,
   "metadata": {},
   "outputs": [
    {
     "name": "stdout",
     "output_type": "stream",
     "text": [
      "Computation done in 782 seconds\n",
      "Score: \n",
      " 0.9622642001926335\n"
     ]
    }
   ],
   "source": [
    "pipeline = Pipeline([('tfidf',TfidfVectorizer(analyzer='char',\n",
    "                                             ngram_range=(1,3))),\n",
    "                     ('mnb',MultinomialNB())\n",
    "                    ])\n",
    "\n",
    "t = time.time()\n",
    "pipeline.fit(X,y)\n",
    "print('Computation done in {} seconds'.format(int(time.time()-t)))\n",
    "\n",
    "print('Score: \\n',pipeline.score(X,y))"
   ]
  },
  {
   "cell_type": "markdown",
   "metadata": {},
   "source": [
    "The above takes about 12 minutes"
   ]
  },
  {
   "cell_type": "code",
   "execution_count": 27,
   "metadata": {
    "collapsed": true
   },
   "outputs": [],
   "source": [
    "winsound.Beep(440,3000) # Beeps when finishing .fit() and .score()"
   ]
  },
  {
   "cell_type": "markdown",
   "metadata": {},
   "source": [
    "# Saving the TFIDF model"
   ]
  },
  {
   "cell_type": "code",
   "execution_count": 28,
   "metadata": {
    "collapsed": true
   },
   "outputs": [],
   "source": [
    "with open('model_TF.pkl','wb') as f:\n",
    "    pickle.dump(pipeline,f,protocol=-1)"
   ]
  },
  {
   "cell_type": "code",
   "execution_count": 29,
   "metadata": {
    "collapsed": true
   },
   "outputs": [],
   "source": [
    "with open('model_TF.pkl','rb') as f:\n",
    "    pipeline = pickle.load(f)"
   ]
  },
  {
   "cell_type": "markdown",
   "metadata": {},
   "source": [
    "# Predicting class probabilities with TFIDF\n",
    "\n",
    "The next cell predicts the probability distribution for each class of language for each text of the test dataframe.\n",
    "\n",
    "The operation is computationally expensive, and requires about 20 minutes on my CPU.\n",
    "\n",
    "It is interesting to notice how often, when using ML models other than neural networks, fitting and performing predictions on datasets of similar sizes require more or less the same amount of time."
   ]
  },
  {
   "cell_type": "code",
   "execution_count": 30,
   "metadata": {
    "scrolled": true
   },
   "outputs": [
    {
     "name": "stdout",
     "output_type": "stream",
     "text": [
      "925.4644854068756\n"
     ]
    },
    {
     "data": {
      "text/plain": [
       "array([[1.15874510e-13, 4.08482644e-09, 7.50220558e-33, 1.40962092e-33,\n",
       "        1.33677742e-33, 5.29614208e-33, 6.64397902e-33, 5.35268144e-32,\n",
       "        5.63647339e-33, 2.26613504e-33, 1.88957674e-33, 3.77395925e-32,\n",
       "        4.72010201e-33, 8.84157538e-34, 4.16083468e-33, 4.35825170e-18,\n",
       "        1.05276057e-32, 2.75646862e-37, 3.37313161e-33, 2.01669555e-33,\n",
       "        9.99999937e-01, 4.64693772e-33, 6.21291061e-33, 7.42554173e-23,\n",
       "        3.31842505e-33, 5.89239425e-08],\n",
       "       [6.37779210e-12, 1.65219993e-12, 1.46489250e-31, 6.86137537e-33,\n",
       "        3.82752762e-32, 2.10205078e-33, 1.67206633e-31, 6.38044969e-31,\n",
       "        1.16301367e-31, 6.09960412e-32, 3.15465403e-32, 5.98715365e-31,\n",
       "        1.21908395e-31, 2.48383817e-32, 1.16016592e-31, 2.88093001e-19,\n",
       "        2.22776278e-31, 1.23618608e-36, 8.64120921e-32, 5.31172792e-32,\n",
       "        5.33790289e-10, 9.53361964e-32, 1.29372431e-31, 3.43926981e-23,\n",
       "        8.58975623e-32, 9.99999999e-01],\n",
       "       [9.10873246e-15, 2.69508097e-09, 6.78676877e-34, 9.53432135e-35,\n",
       "        1.25419693e-34, 3.36591938e-34, 6.13558311e-34, 4.32828560e-33,\n",
       "        5.29825240e-34, 2.19171391e-34, 1.48034759e-34, 3.37154782e-33,\n",
       "        4.41392352e-34, 8.48185941e-35, 3.59308772e-34, 1.21449532e-18,\n",
       "        9.96993147e-34, 1.47080014e-38, 3.21042589e-34, 1.90359245e-34,\n",
       "        9.99999975e-01, 4.26819077e-34, 5.52582692e-34, 1.37767356e-23,\n",
       "        3.24860691e-34, 2.23514051e-08]])"
      ]
     },
     "execution_count": 30,
     "metadata": {},
     "output_type": "execute_result"
    }
   ],
   "source": [
    "t0 = time.time()\n",
    "predictions = pipeline.predict_proba(test['text']) # This takes about 15 min\n",
    "print(time.time()-t0)\n",
    "predictions[:3]"
   ]
  },
  {
   "cell_type": "markdown",
   "metadata": {},
   "source": [
    "# Saving the predictions for submission"
   ]
  },
  {
   "cell_type": "code",
   "execution_count": 31,
   "metadata": {},
   "outputs": [
    {
     "name": "stdout",
     "output_type": "stream",
     "text": [
      "Done\n"
     ]
    }
   ],
   "source": [
    "submissions_TF = pd.DataFrame(predictions,index=test.index,columns=languages)\n",
    "submissions_TF.to_csv('submissions_TF.csv')\n",
    "print('Done')\n",
    "winsound.Beep(440, 3000)"
   ]
  },
  {
   "cell_type": "code",
   "execution_count": 32,
   "metadata": {
    "scrolled": true
   },
   "outputs": [
    {
     "name": "stdout",
     "output_type": "stream",
     "text": [
      "<class 'pandas.core.frame.DataFrame'>\n",
      "Int64Index: 400000 entries, 1 to 400000\n",
      "Data columns (total 26 columns):\n",
      "be     400000 non-null float64\n",
      "bg     400000 non-null float64\n",
      "cs     400000 non-null float64\n",
      "de     400000 non-null float64\n",
      "el     400000 non-null float64\n",
      "en     400000 non-null float64\n",
      "es     400000 non-null float64\n",
      "fr     400000 non-null float64\n",
      "hr     400000 non-null float64\n",
      "hsb    400000 non-null float64\n",
      "hy     400000 non-null float64\n",
      "it     400000 non-null float64\n",
      "la     400000 non-null float64\n",
      "lt     400000 non-null float64\n",
      "lv     400000 non-null float64\n",
      "mk     400000 non-null float64\n",
      "nl     400000 non-null float64\n",
      "pl     400000 non-null float64\n",
      "pt     400000 non-null float64\n",
      "ro     400000 non-null float64\n",
      "ru     400000 non-null float64\n",
      "sk     400000 non-null float64\n",
      "sl     400000 non-null float64\n",
      "sr     400000 non-null float64\n",
      "sv     400000 non-null float64\n",
      "uk     400000 non-null float64\n",
      "dtypes: float64(26)\n",
      "memory usage: 82.4 MB\n"
     ]
    }
   ],
   "source": [
    "submissions_TF.info()"
   ]
  },
  {
   "cell_type": "markdown",
   "metadata": {},
   "source": [
    "# Second model: CountVectorizer + MultinomialNB\n",
    "\n",
    "### CountVectorizer\n",
    "\n",
    "CountVectorizer extracts the absolute frequency of each term in each sample, and assigns it to the appropriate position in the output matrix. More in detail, the output matrix has, as columns, each of the tokens in the observed training dataset, and, as rows, each of the observed documents. The output matrix is thus comprised of lots of 0's, corresponding to the tokens not present in a particular document, and some positive integer values, corresponding to the number of times a token is observed in a given document.\n",
    "\n",
    "Calculating the output matrix for the CountVectorizer, assuming one uses the same parameters as those for the TfidfVectorizer, should in theory take less time. In practice, however, it does not, and running the model in the next cell requires more or less the same time as the previous model. I presume that most of the computational time required goes into parsing the text data and forming the dictionary of ngrams, rather than performing the additional computations required for TfidfVectorizer, as opposed to the more simple CountVectorizer. This assumption is however unproven.\n",
    "\n",
    "### Multinomial Naive Bayes\n",
    "\n",
    "See \"First model\", above."
   ]
  },
  {
   "cell_type": "code",
   "execution_count": 33,
   "metadata": {},
   "outputs": [
    {
     "name": "stdout",
     "output_type": "stream",
     "text": [
      "Computation done in 775 seconds\n",
      "Score: \n",
      " 0.9938764483400372\n"
     ]
    }
   ],
   "source": [
    "pipeline = Pipeline([('countvec',CountVectorizer(analyzer='char',\n",
    "                                             ngram_range=(1,3))),\n",
    "                     ('mnb',MultinomialNB())\n",
    "                    ])\n",
    "\n",
    "t = time.time()\n",
    "pipeline.fit(X,y)\n",
    "print('Computation done in {} seconds'.format(int(time.time()-t)))\n",
    "\n",
    "print('Score: \\n',pipeline.score(X,y))"
   ]
  },
  {
   "cell_type": "markdown",
   "metadata": {},
   "source": [
    "The previous cell should take about 15 minutes."
   ]
  },
  {
   "cell_type": "code",
   "execution_count": 34,
   "metadata": {
    "collapsed": true
   },
   "outputs": [],
   "source": [
    "winsound.Beep(440, 3000)"
   ]
  },
  {
   "cell_type": "markdown",
   "metadata": {},
   "source": [
    "# Saving the CV model"
   ]
  },
  {
   "cell_type": "code",
   "execution_count": 35,
   "metadata": {
    "collapsed": true
   },
   "outputs": [],
   "source": [
    "with open('model_CV.pkl','wb') as f:\n",
    "    pickle.dump(pipeline,f,protocol=-1)"
   ]
  },
  {
   "cell_type": "code",
   "execution_count": 36,
   "metadata": {
    "collapsed": true
   },
   "outputs": [],
   "source": [
    "with open('model_CV.pkl','rb') as f:\n",
    "    pipeline = pickle.load(f)"
   ]
  },
  {
   "cell_type": "markdown",
   "metadata": {},
   "source": [
    "# Predicting the class affiliation\n",
    "\n",
    "We can now compute the probability distribution that each text belongs to a given class.\n",
    "\n",
    "The cell below performs this task."
   ]
  },
  {
   "cell_type": "code",
   "execution_count": 37,
   "metadata": {
    "scrolled": true
   },
   "outputs": [
    {
     "name": "stdout",
     "output_type": "stream",
     "text": [
      "924.5734193325043\n"
     ]
    },
    {
     "data": {
      "text/plain": [
       "array([[0.00000000e+000, 0.00000000e+000, 0.00000000e+000,\n",
       "        0.00000000e+000, 0.00000000e+000, 0.00000000e+000,\n",
       "        0.00000000e+000, 0.00000000e+000, 0.00000000e+000,\n",
       "        0.00000000e+000, 0.00000000e+000, 0.00000000e+000,\n",
       "        0.00000000e+000, 0.00000000e+000, 0.00000000e+000,\n",
       "        0.00000000e+000, 0.00000000e+000, 0.00000000e+000,\n",
       "        0.00000000e+000, 0.00000000e+000, 1.00000000e+000,\n",
       "        0.00000000e+000, 0.00000000e+000, 0.00000000e+000,\n",
       "        0.00000000e+000, 9.69755534e-303],\n",
       "       [0.00000000e+000, 0.00000000e+000, 0.00000000e+000,\n",
       "        0.00000000e+000, 0.00000000e+000, 0.00000000e+000,\n",
       "        0.00000000e+000, 0.00000000e+000, 0.00000000e+000,\n",
       "        0.00000000e+000, 0.00000000e+000, 0.00000000e+000,\n",
       "        0.00000000e+000, 0.00000000e+000, 0.00000000e+000,\n",
       "        0.00000000e+000, 0.00000000e+000, 0.00000000e+000,\n",
       "        0.00000000e+000, 0.00000000e+000, 0.00000000e+000,\n",
       "        0.00000000e+000, 0.00000000e+000, 0.00000000e+000,\n",
       "        0.00000000e+000, 1.00000000e+000],\n",
       "       [0.00000000e+000, 0.00000000e+000, 0.00000000e+000,\n",
       "        0.00000000e+000, 0.00000000e+000, 0.00000000e+000,\n",
       "        0.00000000e+000, 0.00000000e+000, 0.00000000e+000,\n",
       "        0.00000000e+000, 0.00000000e+000, 0.00000000e+000,\n",
       "        0.00000000e+000, 0.00000000e+000, 0.00000000e+000,\n",
       "        0.00000000e+000, 0.00000000e+000, 0.00000000e+000,\n",
       "        0.00000000e+000, 0.00000000e+000, 1.00000000e+000,\n",
       "        0.00000000e+000, 0.00000000e+000, 0.00000000e+000,\n",
       "        0.00000000e+000, 0.00000000e+000]])"
      ]
     },
     "execution_count": 37,
     "metadata": {},
     "output_type": "execute_result"
    }
   ],
   "source": [
    "t0 = time.time()\n",
    "predictions = pipeline.predict_proba(test['text'])\n",
    "print(time.time()-t0)\n",
    "predictions[:3]"
   ]
  },
  {
   "cell_type": "markdown",
   "metadata": {},
   "source": [
    "The cell above takes about 15 min"
   ]
  },
  {
   "cell_type": "code",
   "execution_count": 38,
   "metadata": {},
   "outputs": [
    {
     "name": "stdout",
     "output_type": "stream",
     "text": [
      "Done\n"
     ]
    }
   ],
   "source": [
    "submissions_CV = pd.DataFrame(predictions,index=test.index,columns=languages)\n",
    "submissions_CV.to_csv('submissions_CV.csv')\n",
    "print('Done')\n",
    "winsound.Beep(440, 3000)"
   ]
  },
  {
   "cell_type": "code",
   "execution_count": 39,
   "metadata": {
    "scrolled": true
   },
   "outputs": [
    {
     "name": "stdout",
     "output_type": "stream",
     "text": [
      "<class 'pandas.core.frame.DataFrame'>\n",
      "Int64Index: 400000 entries, 1 to 400000\n",
      "Data columns (total 26 columns):\n",
      "be     400000 non-null float64\n",
      "bg     400000 non-null float64\n",
      "cs     400000 non-null float64\n",
      "de     400000 non-null float64\n",
      "el     400000 non-null float64\n",
      "en     400000 non-null float64\n",
      "es     400000 non-null float64\n",
      "fr     400000 non-null float64\n",
      "hr     400000 non-null float64\n",
      "hsb    400000 non-null float64\n",
      "hy     400000 non-null float64\n",
      "it     400000 non-null float64\n",
      "la     400000 non-null float64\n",
      "lt     400000 non-null float64\n",
      "lv     400000 non-null float64\n",
      "mk     400000 non-null float64\n",
      "nl     400000 non-null float64\n",
      "pl     400000 non-null float64\n",
      "pt     400000 non-null float64\n",
      "ro     400000 non-null float64\n",
      "ru     400000 non-null float64\n",
      "sk     400000 non-null float64\n",
      "sl     400000 non-null float64\n",
      "sr     400000 non-null float64\n",
      "sv     400000 non-null float64\n",
      "uk     400000 non-null float64\n",
      "dtypes: float64(26)\n",
      "memory usage: 82.4 MB\n"
     ]
    }
   ],
   "source": [
    "submissions_CV.info()"
   ]
  },
  {
   "cell_type": "markdown",
   "metadata": {},
   "source": [
    "# Conclusion\n",
    "\n",
    "The job is done, and the two files, 'submission_TF.csv' and 'submission_CV.csv' are ready to be uploaded to Kaggle.\n",
    "\n",
    "I suggest zip'ing or rar'ing the files before submitting them, as they occupy a few hundred Mb each.\n",
    "\n",
    "The second model, the one with CountVectorizer, performs better, however slightly. As the overall result on the leaderboard for both models is however low, one can infer, that significantly better models were used by the people in the top positions.\n",
    "\n",
    "Although the competition is over, it is not known what models those were. It is judged unlikely that additional preprocessing of the training data could have given a better score on the test data, since the score received in classifying the training data for both models is sufficiently high (96% for the one with Tfidf and 99% for the one with CV). It is therefore assumed that a more complex model was used by those in the top positions, and maybe one involving deep learning.\n",
    "\n",
    "It is also possible that the file containing the test data was corrupted or replaced at a late time in the history of the competition since, as we have seen earlier, many of its elements were null. While this may happen on real datasets used for training, it is unlikely that a human would want to test the predictive capacity of a model on test data which contains empty values, associated with non-empty labels. It is however not possible to determine whether this is the case, because the file with the test labels was not made public.\n",
    "\n",
    "# On linguistics\n",
    "\n",
    "As suggested by the score computed on the training dataset, it seems that the assumption provided by Github user danielv775, cited earlier, is valid on this dataset too. That is, CountVectorizer + MultinomialNB correctly identify (score higher than 99%) most of the languages in a dataset. Additionally, it seems that ngram_range=(1,3) (that is, unigrams, bigrams, and trigrams) works very well.\n",
    "\n",
    "### We now have a trained model for identifying languages in general texts\n",
    "\n",
    "As a side result of the computation above, our trained model can now be used to correctly identify the language in text not seen in either the training or the test datasets. The cells below show how to do it.\n",
    "\n",
    "If the trained model needs to be used in a different script, just load it with pickle from the saved file into a pipeline object, making sure to have loaded all relevant libraries first. You can then use it to predict the language of a corpus of texts by passing them to the .predict() method of the pipeline, as a list. The output is a list of language labels for each document in the input list.\n",
    "\n",
    "Remember: the languages on which the model has been trained are the 26 languages seen in the training dataset:\n",
    "\n",
    "    ['be', 'bg', 'cs', 'de', 'el', 'en', 'es', 'fr', 'hr', 'hsb', 'hy',\n",
    "        'it', 'la', 'lt', 'lv', 'mk', 'nl', 'pl', 'pt', 'ro', 'ru', 'sk',\n",
    "        'sl', 'sr', 'sv', 'uk']\n",
    "\n",
    "These language codes are provided accordingly to the ISO 639 standard.\n",
    "More on ISO 639 here: https://en.wikipedia.org/wiki/ISO_639\n",
    "\n",
    "Text not belonging to any of the languages above would not be correctly identified by the model."
   ]
  },
  {
   "cell_type": "code",
   "execution_count": 40,
   "metadata": {},
   "outputs": [
    {
     "data": {
      "text/plain": [
       "array(['lt'], dtype='<U3')"
      ]
     },
     "execution_count": 40,
     "metadata": {},
     "output_type": "execute_result"
    }
   ],
   "source": [
    "sentence = 'Gal gali kalbėti lėčiau?' # 'Can you speak slowly?', in Lithuanian\n",
    "pipeline.predict([sentence]) # Note the square brackets, Method .predict() expects an iterable.\n",
    "# expected 'lt'"
   ]
  },
  {
   "cell_type": "code",
   "execution_count": 41,
   "metadata": {},
   "outputs": [
    {
     "data": {
      "text/plain": [
       "array(['ro'], dtype='<U3')"
      ]
     },
     "execution_count": 41,
     "metadata": {},
     "output_type": "execute_result"
    }
   ],
   "source": [
    "sentence = 'Bunicii mei au un cal.' # 'My grandparents have a horse.', in Romenian\n",
    "pipeline.predict([sentence])\n",
    "# expected 'ro'"
   ]
  },
  {
   "cell_type": "code",
   "execution_count": 42,
   "metadata": {},
   "outputs": [
    {
     "data": {
      "text/plain": [
       "array(['hr'], dtype='<U3')"
      ]
     },
     "execution_count": 42,
     "metadata": {},
     "output_type": "execute_result"
    }
   ],
   "source": [
    "sentence = 'Hrvatski jedan od najtežih jezika' # 'Croatian is one of the hardest languages', in Croatian\n",
    "pipeline.predict([sentence])\n",
    "# expected 'hr'"
   ]
  },
  {
   "cell_type": "code",
   "execution_count": 43,
   "metadata": {},
   "outputs": [
    {
     "data": {
      "text/plain": [
       "array(['sv'], dtype='<U3')"
      ]
     },
     "execution_count": 43,
     "metadata": {},
     "output_type": "execute_result"
    }
   ],
   "source": [
    "sentence = 'Hej! Jag är brittisk.' # 'Hello! I am British', in Swedish\n",
    "pipeline.predict([sentence])\n",
    "# expected 'sv'"
   ]
  },
  {
   "cell_type": "code",
   "execution_count": 44,
   "metadata": {},
   "outputs": [
    {
     "data": {
      "text/plain": [
       "array(['pt', 'fr'], dtype='<U3')"
      ]
     },
     "execution_count": 44,
     "metadata": {},
     "output_type": "execute_result"
    }
   ],
   "source": [
    "sentences = ['A melhor defesa é o ataque',  # 'The best defence is the attack', in Portuguese\n",
    "            'On ne fait pas d\\'omelette sans casser des oeufs'] \n",
    "                        # 'It is not possible to make omelettes without breaking eggs', in French\n",
    "\n",
    "pipeline.predict(sentences) # Note we are not using the square brackets here, since \"sentences\" is already a list.\n",
    "# expected pr, fr"
   ]
  },
  {
   "cell_type": "markdown",
   "metadata": {},
   "source": [
    "The next cell informs the user with a celebratory melody that all computations are done; remove if not using Windows."
   ]
  },
  {
   "cell_type": "code",
   "execution_count": 45,
   "metadata": {},
   "outputs": [],
   "source": [
    "C = 261\n",
    "E = 329\n",
    "G = 392\n",
    "C_UP = 523\n",
    "for i in range(5):\n",
    "    winsound.Beep(C,1000)\n",
    "    winsound.Beep(E,1000)\n",
    "    winsound.Beep(G,1000)\n",
    "    winsound.Beep(C_UP,1000)"
   ]
  }
 ],
 "metadata": {
  "kernelspec": {
   "display_name": "Python 3",
   "language": "python",
   "name": "python3"
  },
  "language_info": {
   "codemirror_mode": {
    "name": "ipython",
    "version": 3
   },
   "file_extension": ".py",
   "mimetype": "text/x-python",
   "name": "python",
   "nbconvert_exporter": "python",
   "pygments_lexer": "ipython3",
   "version": "3.6.3"
  }
 },
 "nbformat": 4,
 "nbformat_minor": 2
}
